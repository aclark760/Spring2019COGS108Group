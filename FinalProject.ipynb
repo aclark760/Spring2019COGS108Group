{
 "cells": [
  {
   "cell_type": "markdown",
   "metadata": {},
   "source": [
    "# COGS 108 - Final Project "
   ]
  },
  {
   "cell_type": "markdown",
   "metadata": {},
   "source": [
    "# Overview"
   ]
  },
  {
   "cell_type": "markdown",
   "metadata": {},
   "source": [
    "*Fill in your overview here*\n",
    "\n"
   ]
  },
  {
   "cell_type": "markdown",
   "metadata": {},
   "source": [
    "# Names\n",
    "\n",
    "- Alisha Sehgal\n",
    "- Austin Clark\n",
    "- Peter Xu\n",
    "- Richard Du\n"
   ]
  },
  {
   "cell_type": "markdown",
   "metadata": {},
   "source": [
    "# Group Members IDs\n",
    "\n",
    "- A15592727\n",
    "- A########\n",
    "- A########\n",
    "- A########"
   ]
  },
  {
   "cell_type": "markdown",
   "metadata": {},
   "source": [
    "# Research Question"
   ]
  },
  {
   "cell_type": "markdown",
   "metadata": {},
   "source": [
    "*Fill in the final research question here*\n",
    "\n",
    "Do the college degrees that cost more pay back proportionality more after after graduation and mid-career? Do the statistics on majors vary based on public or private schools? Lastly, does the region of the college affect the payout?\n",
    "\n",
    "The problem we are investigating is the cost increases of higher education and its relationship to the salaries from the obtained degrees. With the cost of obtaining a bachelor’s, masters’ and PhD increasing more than the previous one, is it really worth it to pursue a certain level of education? Also, are the majors that are usually viewed as those low-earning worth to pursue with a college degree? For the project, we try to answer the question of 1. What type/category of majors and degrees cost you the most, and 2. Do these combinations also make you more money in the long run compared to other less expensive majors/ degrees.\n",
    "\n",
    "* we need to talk about the types of variables we will measure and how"
   ]
  },
  {
   "cell_type": "markdown",
   "metadata": {},
   "source": [
    "## Background and Prior Work"
   ]
  },
  {
   "cell_type": "markdown",
   "metadata": {},
   "source": [
    "*Fill in your background and prior work here* \n",
    "\n",
    "There is a large difference between college completion of high and low income families and between completion of college for females and males. In the NBER working papers, college completion is measured by people who attain a bachelor’s degree by the time they are 25. Over the years, there has been an increase in the completion of college for females, but this increase is driven by the daughters of high income families, and does not account for females in low-income families. Between 1915 and 1983, college completion quadrupled. Again, most of this increase is accounted for by high-income families. This begs the question, is the price of college too high for the regular household?\n",
    "    \n",
    "Upon looking at another article about the worth of college, our group found that debt for college has become a large sum that often hinders students from living out their dreams. In fact, between 2010 and 2011, half of all of the college graduates were unemployed or employed below their skill level. If college isn’t getting students closer to what they want, then is it worth it? The article clarifies that for certain majors such as engineering or medical majors, college is necessary. It also singles out certain colleges, like Stanford, as being more worth it than others. However, overall, the book states that college is not necessary if one does not have a clear reason for going. Most people can go to the library and learn for themselves what their $100 grand plus would get them in college. To support this claim, the author states that 84% of employers have rated college graduates as not fully prepared for the workforce and only a little bit more prepared than a high school graduate. \n",
    "    \n",
    "College costs have been rising at a rate above the rate of inflation. They will continue to follow this trend and students will become more and more crippled by debt for the same education. Additionally, more students are being enrolled in universities, thus creating a more people competing for the same amount of resources scenario at nearly all public and state colleges. The large difference in lifetime earnings between those with and without college degrees is largely due to what those who graduate from the top 150 colleges earn. Students from the average college do not have a large difference between their lifetime earnings after subtracting debt when compared to a high school graduate with no debt.\n",
    "    \n",
    "The value of education has always been a topic of discussion, but in recent years it has become more of a concern. Lots of data about such topics exist online. For example, Bureau of Labor Statistics, Kaggle, Payscale. Most people will complete a bachelor’s degree after 4 years of college. However, depending on which college you attend, the cost of a bachelor’s degree can vary significantly. By default, private universities cost more to attend compared to public universities, which may put more pressure on students to select the best major to make up for the cost. However, as noted in the analysis from College Earnings Premium & Value Proposition, if financial aid is included, the cost for attending private colleges becomes more comparable to the cost of public colleges.\n",
    "\n",
    "The type of major you select also can have a significant impact on your salary after you complete your degree. The analysis from the project Post-College Salaries Exploration in R, shows that STEM majors have an advantage when it comes to starting salaries and mid-career salaries. However, since we are looking at the proportional net gain from cost of attendance to salary, we cannot simply look at the top paying majors. Further analysis in the same project describes the growth in long-term salary for the various majors. In this case, engineering majors showed less growth compared to other majors such as economics, political science, finance, etc. While we do have to take into consideration the higher starting salary for engineering majors, the difference in growth potential suggests that non STEM majors may be worth considering when examining the net proportional gain after earning the degree.\n",
    "\n",
    "References (include links):\n",
    "- 1) https://www.nber.org/papers/w17633chrome-extension://oemmndcbldboiebfnladdacbdfmadadm/https://www.nber.org/papers/w17633.pdf\n",
    "- 2) https://books.google.com/books?hl=en&lr=&id=AZ9aFGUH-t0C&oi=fnd&pg=PP2&dq=college+worth&ots=hzE60fcciL&sig=uuG_lMudxmeBP2BKrqljSCi9bzU#v=onepage&q=college%20worth&f=false\n",
    "- 3) https://www.kaggle.com/apollostar/college-earnings-premium-value-proposition\n",
    "- 4) https://www.kaggle.com/cbhyphen/post-college-salaries-exploration-in-r"
   ]
  },
  {
   "cell_type": "markdown",
   "metadata": {},
   "source": [
    "# Hypothesis\n"
   ]
  },
  {
   "cell_type": "markdown",
   "metadata": {},
   "source": [
    "*Fill in your hypotheses here*\n",
    "\n",
    "We expect that on average, degrees that require more time will have a better payoff in the long run due to the additional knowledge and skills gained from the additional education. However, there may be certain degrees, where having more industry experience will be better, and thus be proportionally more cost efficient.\n",
    "\n",
    "Additionally, we propose that the region of the school does affect the payout. Schools in certain regions are more primed for certain majors to prosper after graduation due to opportunity and resources."
   ]
  },
  {
   "cell_type": "markdown",
   "metadata": {},
   "source": [
    "# Dataset(s)"
   ]
  },
  {
   "cell_type": "markdown",
   "metadata": {},
   "source": [
    "*Fill in your dataset information here*\n",
    "\n",
    "(Copy this information for each dataset)\n",
    "- Dataset Name:\n",
    "- Link to the dataset:\n",
    "- Number of observations:\n",
    "\n",
    "1-2 sentences describing each dataset. \n",
    "\n",
    "(Copy this information for each dataset)\n",
    "- Dataset Name:\n",
    "- Link to the dataset:\n",
    "- Number of observations:\n",
    "\n",
    "1-2 sentences describing each dataset. \n",
    "\n",
    "If you plan to use multiple datasets, add 1-2 sentences about how you plan to combine these datasets."
   ]
  },
  {
   "cell_type": "markdown",
   "metadata": {},
   "source": [
    "# Setup"
   ]
  },
  {
   "cell_type": "code",
   "execution_count": null,
   "metadata": {},
   "outputs": [],
   "source": []
  },
  {
   "cell_type": "markdown",
   "metadata": {},
   "source": [
    "# Data Cleaning"
   ]
  },
  {
   "cell_type": "markdown",
   "metadata": {},
   "source": [
    "Describe your data cleaning steps here."
   ]
  },
  {
   "cell_type": "code",
   "execution_count": 4,
   "metadata": {},
   "outputs": [],
   "source": [
    "## YOUR CODE HERE\n",
    "## FEEL FREE TO ADD MULTIPLE CELLS PER SECTION"
   ]
  },
  {
   "cell_type": "markdown",
   "metadata": {},
   "source": [
    "# Data Analysis & Results"
   ]
  },
  {
   "cell_type": "markdown",
   "metadata": {},
   "source": [
    "Include cells that describe the steps in your data analysis."
   ]
  },
  {
   "cell_type": "code",
   "execution_count": 5,
   "metadata": {},
   "outputs": [],
   "source": [
    "## YOUR CODE HERE\n",
    "## FEEL FREE TO ADD MULTIPLE CELLS PER SECTION"
   ]
  },
  {
   "cell_type": "markdown",
   "metadata": {},
   "source": [
    "# Ethics & Privacy"
   ]
  },
  {
   "cell_type": "markdown",
   "metadata": {},
   "source": [
    "*Fill in your ethics & privacy discussion here*\n",
    "\n",
    "The costs of schooling have been rising recently and we want people to be the most informed as to whether the cost of schooling is worth the money based on the expected payoff of their chosen major. We do not intend to discourage people from attending college or pursuing their passions and if our data ends up showing that certain areas or degrees are not profitable we hope that it does not have a large impact on the people who chose that area of study.\n",
    "\n",
    "Throughout the collection and analysis of data that we have provided, we hope to show exactly how prices of colleges have risen and how the salaries out of college compare to the increase of cost for attendance. Is it ethical for colleges to continue charging students this much especially if they do not proportionally increase their resources to match the increase in students attending? If they are taking in more resources and money per student, where is the extra money going, if not towards the students?\n",
    "\n",
    "All data used in this project is open source and does not include personal details of individuals. All analysis on the data is being done for educational purposes and to raise awareness. The project is not being used for personal gain; it is merely informative for the public.\n"
   ]
  },
  {
   "cell_type": "markdown",
   "metadata": {},
   "source": [
    "# Conclusion & Discussion"
   ]
  },
  {
   "cell_type": "markdown",
   "metadata": {},
   "source": [
    "*Fill in your discussion information here*"
   ]
  }
 ],
 "metadata": {
  "kernelspec": {
   "display_name": "Python 3",
   "language": "python",
   "name": "python3"
  },
  "language_info": {
   "codemirror_mode": {
    "name": "ipython",
    "version": 3
   },
   "file_extension": ".py",
   "mimetype": "text/x-python",
   "name": "python",
   "nbconvert_exporter": "python",
   "pygments_lexer": "ipython3",
   "version": "3.6.7"
  }
 },
 "nbformat": 4,
 "nbformat_minor": 2
}
