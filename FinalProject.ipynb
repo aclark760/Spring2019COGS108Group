{
 "cells": [
  {
   "cell_type": "markdown",
   "metadata": {},
   "source": [
    "# COGS 108 - Final Project "
   ]
  },
  {
   "cell_type": "markdown",
   "metadata": {},
   "source": [
    "# Overview"
   ]
  },
  {
   "cell_type": "markdown",
   "metadata": {},
   "source": [
    "*Fill in your overview here*\n",
    "\n"
   ]
  },
  {
   "cell_type": "markdown",
   "metadata": {},
   "source": [
    "# Names\n",
    "\n",
    "- Alisha Sehgal\n",
    "- Austin Clark\n",
    "- Peter Xu\n",
    "- Richard Du\n"
   ]
  },
  {
   "cell_type": "markdown",
   "metadata": {},
   "source": [
    "# Group Members IDs\n",
    "\n",
    "- A15592727\n",
    "- A91063616\n",
    "- A15206122\n",
    "- A92152605"
   ]
  },
  {
   "cell_type": "markdown",
   "metadata": {},
   "source": [
    "# Research Question"
   ]
  },
  {
   "cell_type": "markdown",
   "metadata": {},
   "source": [
    "Do the college degrees that cost more pay back proportionality more after after graduation and mid-career? Do the statistics on majors vary based on public or private schools? Lastly, does the region of the college affect the payout?\n",
    "\n",
    "The problem we are investigating is the cost increases of higher education and its relationship to the salaries from the obtained degrees. With the cost of obtaining a bachelor’s degree, is it really worth it to pursue a certain level of education? Also, are the majors that are usually viewed as those low-earning worth to pursue with a college degree? For the project, we try to answer the question of 1. What type/category of majors and degrees cost you the most, and 2. Do these combinations also make you more money in the long run compared to other less expensive majors/ degrees? 3. Does the school region and type of school have an effect on the starting and mid-career salaries of graduates?"
   ]
  },
  {
   "cell_type": "markdown",
   "metadata": {},
   "source": [
    "## Background and Prior Work"
   ]
  },
  {
   "cell_type": "markdown",
   "metadata": {},
   "source": [
    "There is a large difference between college completion of high and low income families and between completion of college for females and males. In the NBER working papers, college completion is measured by people who attain a bachelor’s degree by the time they are 25. Over the years, there has been an increase in the completion of college for females, but this increase is driven by the daughters of high income families, and does not account for females in low-income families. Between 1915 and 1983, college completion quadrupled. Again, most of this increase is accounted for by high-income families. This begs the question, is the price of college too high for the regular household?\n",
    "\n",
    "Upon looking at another article about the worth of college, our group found that debt for college has become a large sum that often hinders students from living out their dreams. In fact, between 2010 and 2011, half of all of the college graduates were unemployed or employed below their skill level. If college isn’t getting students closer to what they want, then is it worth it? The article clarifies that for certain majors such as engineering or medical majors, college is necessary. It also singles out certain colleges, like Stanford, as being more worth it than others. However, overall, the book states that college is not necessary if one does not have a clear reason for going. Most people can go to the library and learn for themselves what their $100 grand plus would get them in college. To support this claim, the author states that 84% of employers have rated college graduates as not fully prepared for the workforce and only a little bit more prepared than a high school graduate.\n",
    "\n",
    "College costs have been rising at a rate above the rate of inflation. They will continue to follow this trend and students will become more and more crippled by debt for the same education. Additionally, more students are being enrolled in universities, thus creating a more people competing for the same amount of resources scenario at nearly all public and state colleges. The large difference in lifetime earnings between those with and without college degrees is largely due to what those who graduate from the top 150 colleges earn. Students from the average college do not have a large difference between their lifetime earnings after subtracting debt when compared to a high school graduate with no debt.\n",
    "\n",
    "The value of education has always been a topic of discussion, but in recent years it has become more of a concern. Lots of data about such topics exist online. For example, Bureau of Labor Statistics, Kaggle, Payscale. Most people will complete a bachelor’s degree after 4 years of college. However, depending on which college you attend, the cost of a bachelor’s degree can vary significantly. By default, private universities cost more to attend compared to public universities, which may put more pressure on students to select the best major to make up for the cost. However, as noted in the analysis from College Earnings Premium & Value Proposition, if financial aid is included, the cost for attending private colleges becomes more comparable to the cost of public colleges.\n",
    "\n",
    "The type of major you select also can have a significant impact on your salary after you complete your degree. The analysis from the project Post-College Salaries Exploration in R, shows that STEM majors have an advantage when it comes to starting salaries and mid-career salaries. However, since we are looking at the proportional net gain from cost of attendance to salary, we cannot simply look at the top paying majors. Further analysis in the same project describes the growth in long-term salary for the various majors. In this case, engineering majors showed less growth compared to other majors such as economics, political science, finance, etc. While we do have to take into consideration the higher starting salary for engineering majors, the difference in growth potential suggests that non STEM majors may be worth considering when examining the net proportional gain after earning the degree.\n",
    "\n",
    "References:\n",
    "\n",
    "1) https://www.nber.org/papers/w17633chrome-extension://oemmndcbldboiebfnladdacbdfmadadm/https://www.nber.org/papers/w17633.pdf\n",
    "2) https://books.google.com/books?hl=en&lr=&id=AZ9aFGUH-t0C&oi=fnd&pg=PP2&dq=college+worth&ots=hzE60fcciL&sig=uuG_lMudxmeBP2BKrqljSCi9bzU#v=onepage&q=college%20worth&f=false\n",
    "3) https://www.kaggle.com/apollostar/college-earnings-premium-value-proposition\n",
    "4) https://www.kaggle.com/cbhyphen/post-college-salaries-exploration-in-r"
   ]
  },
  {
   "cell_type": "markdown",
   "metadata": {},
   "source": [
    "# Hypothesis\n"
   ]
  },
  {
   "cell_type": "markdown",
   "metadata": {},
   "source": [
    "We expect that on average, degrees that require more time will have a better payoff in the long run due to the additional knowledge and skills gained from the additional education. However, there may be certain degrees, where having more industry experience will be better, and thus be proportionally more cost efficient.\n",
    "\n",
    "Additionally, we propose that the region of the school does affect the payout. Schools in certain regions are more primed for certain majors to prosper after graduation due to opportunity and resources."
   ]
  },
  {
   "cell_type": "markdown",
   "metadata": {},
   "source": [
    "# Dataset(s)"
   ]
  },
  {
   "cell_type": "markdown",
   "metadata": {},
   "source": [
    "*Fill in your dataset information here*\n",
    "\n",
    "- Dataset Name: College Scorecard\n",
    "- Link to the dataset: https://collegescorecard.ed.gov/data/\n",
    "- Number of observations: 7804 (for the 2013-2014 data set)\n",
    "\n",
    "This dataset is from the US Department of Education and it matches information from student financial aid with federal tax returns. This dataset was created with the intention of providing some insight into the difference in rankings of Universities. \n",
    "There are over 6000 observations in this dataset which records the university a student attended with information on how much the average student makes and how expensive the schooling was. \n",
    "\n",
    "(Copy this information for each dataset)\n",
    "- Dataset Name:\n",
    "- Link to the dataset:\n",
    "- Number of observations:\n",
    "\n",
    "1-2 sentences describing each dataset. \n",
    "\n",
    "If you plan to use multiple datasets, add 1-2 sentences about how you plan to combine these datasets."
   ]
  },
  {
   "cell_type": "markdown",
   "metadata": {},
   "source": [
    "# Setup"
   ]
  },
  {
   "cell_type": "code",
   "execution_count": 1,
   "metadata": {},
   "outputs": [],
   "source": [
    "%matplotlib inline\n",
    "\n",
    "import numpy as np\n",
    "import pandas as pd\n",
    "import matplotlib.pyplot as plt\n",
    "\n",
    "import patsy\n",
    "import statsmodels.api as sm\n",
    "import scipy.stats as stats\n",
    "from scipy.stats import ttest_ind, chisquare, normaltest\n",
    "import seaborn as sns\n",
    "sns.set()\n",
    "sns.set_context('talk')\n",
    "from statsmodels.formula.api import ols"
   ]
  },
  {
   "cell_type": "markdown",
   "metadata": {},
   "source": [
    "# Data Cleaning"
   ]
  },
  {
   "cell_type": "markdown",
   "metadata": {},
   "source": [
    "First we want to import and clean the College Score Card 2014 Dataset"
   ]
  },
  {
   "cell_type": "code",
   "execution_count": 2,
   "metadata": {},
   "outputs": [],
   "source": [
    "df = pd.read_csv('MERGED2013_14_PP.csv', dtype = str)"
   ]
  },
  {
   "cell_type": "markdown",
   "metadata": {},
   "source": [
    "Note that this dataset is enormous and has over 1000 columns of variables so we need to select only the cells that we can use."
   ]
  },
  {
   "cell_type": "code",
   "execution_count": 3,
   "metadata": {},
   "outputs": [],
   "source": [
    "# setting up columns we want to look at\n",
    "institution_name = 'INSTNM' #string\n",
    "state = 'STABBR' #string\n",
    "undergraduate_enrollment = 'UGDS' #int\n",
    "avg_cost_of_attendance_academic_institutions = 'COSTT4_A' #int\n",
    "\n",
    "# ownership specifies if college is private or public; key: 1 = public, 2 = private nonprofit, 3 = private for profit\n",
    "ownership = \"CONTROL\" #int\n",
    "\n",
    "# wne = 'working not enrolled'\n",
    "count_of_students_wne_10y_after_entry = 'COUNT_WNE_P10' #int\n",
    "mean_earnings_of_students_wne_10y_after_entry = 'MN_EARN_WNE_P10' #int\n",
    "median_earnings_of_students_wne_10y_after_entry = 'MD_EARN_WNE_P10' #int\n",
    "stddev_earnings_of_students_wne_10y_after_entry = 'SD_EARN_WNE_P10' #int\n",
    "\n",
    "count_of_students_wne_6y_after_entry = 'COUNT_WNE_P6' #int\n",
    "mean_earnings_of_students_wne_6y_after_entry = 'MN_EARN_WNE_P6' #int\n",
    "median_earnings_of_students_wne_6y_after_entry = 'MD_EARN_WNE_P6' #int\n",
    "stddev_earnings_of_students_wne_6y_after_entry = 'SD_EARN_WNE_P6' #int\n",
    "\n",
    "median_debt_for_graduated_students = 'GRAD_DEBT_MDN' #float\n",
    "\n",
    "relevantColumns = [institution_name,\n",
    "                   state,\n",
    "                   ownership, \n",
    "                   undergraduate_enrollment, \n",
    "                   avg_cost_of_attendance_academic_institutions, \n",
    "                  count_of_students_wne_10y_after_entry,\n",
    "                  mean_earnings_of_students_wne_10y_after_entry,\n",
    "                  median_earnings_of_students_wne_10y_after_entry,\n",
    "                  stddev_earnings_of_students_wne_10y_after_entry,\n",
    "                  count_of_students_wne_6y_after_entry,\n",
    "                  mean_earnings_of_students_wne_6y_after_entry,\n",
    "                  median_earnings_of_students_wne_6y_after_entry,\n",
    "                  stddev_earnings_of_students_wne_6y_after_entry,\n",
    "                  median_debt_for_graduated_students,\n",
    "                  percent_degrees_in_engineering]\n"
   ]
  },
  {
   "cell_type": "markdown",
   "metadata": {},
   "source": [
    "Now we have a manageable dataset with usefull information for the questions we are trying to answer."
   ]
  },
  {
   "cell_type": "markdown",
   "metadata": {},
   "source": [
    "When we started looking further into the dataset we see that this includes information for not only traditional colleges, but also information for trade schools and small institutions classified as higher learning. We removed the small schools and trade schools by removing all schools whose attendance was less than 2000 as well as removing the schools that had missing information. "
   ]
  },
  {
   "cell_type": "code",
   "execution_count": 4,
   "metadata": {},
   "outputs": [],
   "source": [
    "# remove all other column data\n",
    "df = df.loc[:, df.columns.intersection(relevantColumns)]\n",
    "\n",
    "# remove specialized program institutions from the dataframe (they will have NaN for academic institution cost of attendance)\n",
    "#df = df.dropna(subset=[avg_cost_of_attendance_academic_institutions])\n",
    "\n",
    "# remove all rows that have null\n",
    "df = df.dropna(how='any')\n",
    "\n",
    "# update type for int columns\n",
    "for col in relevantColumns[2:-2]:\n",
    "    if(df[col].dtype == object):\n",
    "        # remove rows with 'PrivacySuppressed'\n",
    "        df = df[df[col]!='PrivacySuppressed']\n",
    "        df[col] = df[col].astype('int')\n",
    "\n",
    "# update type for float columns\n",
    "for col in relevantColumns[-2:]:\n",
    "    if(df[col].dtype == object):\n",
    "        # remove rows with 'PrivacySuppressed'\n",
    "        df = df[df[col]!='PrivacySuppressed']\n",
    "        df[col] = df[col].astype('float')\n",
    "\n",
    "# remove schools with less than 2000 undergraduate students enrolled\n",
    "df[undergraduate_enrollment] = df[undergraduate_enrollment].astype('int')\n",
    "df = df[df[undergraduate_enrollment] >= 2000]\n"
   ]
  },
  {
   "cell_type": "markdown",
   "metadata": {},
   "source": [
    "We are left with a dataset that has 1588 entries that we can make inferences from."
   ]
  },
  {
   "cell_type": "code",
   "execution_count": 5,
   "metadata": {},
   "outputs": [
    {
     "data": {
      "text/html": [
       "<div>\n",
       "<style scoped>\n",
       "    .dataframe tbody tr th:only-of-type {\n",
       "        vertical-align: middle;\n",
       "    }\n",
       "\n",
       "    .dataframe tbody tr th {\n",
       "        vertical-align: top;\n",
       "    }\n",
       "\n",
       "    .dataframe thead th {\n",
       "        text-align: right;\n",
       "    }\n",
       "</style>\n",
       "<table border=\"1\" class=\"dataframe\">\n",
       "  <thead>\n",
       "    <tr style=\"text-align: right;\">\n",
       "      <th></th>\n",
       "      <th>INSTNM</th>\n",
       "      <th>STABBR</th>\n",
       "      <th>PCIP15</th>\n",
       "      <th>UGDS</th>\n",
       "      <th>COSTT4_A</th>\n",
       "      <th>GRAD_DEBT_MDN</th>\n",
       "      <th>COUNT_WNE_P10</th>\n",
       "      <th>MN_EARN_WNE_P10</th>\n",
       "      <th>MD_EARN_WNE_P10</th>\n",
       "      <th>SD_EARN_WNE_P10</th>\n",
       "      <th>COUNT_WNE_P6</th>\n",
       "      <th>MN_EARN_WNE_P6</th>\n",
       "      <th>MD_EARN_WNE_P6</th>\n",
       "      <th>SD_EARN_WNE_P6</th>\n",
       "    </tr>\n",
       "  </thead>\n",
       "  <tbody>\n",
       "    <tr>\n",
       "      <th>0</th>\n",
       "      <td>Alabama A &amp; M University</td>\n",
       "      <td>AL</td>\n",
       "      <td>0.0348</td>\n",
       "      <td>4051</td>\n",
       "      <td>18888</td>\n",
       "      <td>29500.0</td>\n",
       "      <td>1741</td>\n",
       "      <td>34300</td>\n",
       "      <td>29900</td>\n",
       "      <td>25300</td>\n",
       "      <td>1187</td>\n",
       "      <td>27200</td>\n",
       "      <td>23100</td>\n",
       "      <td>24200</td>\n",
       "    </tr>\n",
       "    <tr>\n",
       "      <th>1</th>\n",
       "      <td>University of Alabama at Birmingham</td>\n",
       "      <td>AL</td>\n",
       "      <td>0.0000</td>\n",
       "      <td>11200</td>\n",
       "      <td>19990</td>\n",
       "      <td>20345.5</td>\n",
       "      <td>3474</td>\n",
       "      <td>46400</td>\n",
       "      <td>40200</td>\n",
       "      <td>36300</td>\n",
       "      <td>2665</td>\n",
       "      <td>38300</td>\n",
       "      <td>34000</td>\n",
       "      <td>29800</td>\n",
       "    </tr>\n",
       "    <tr>\n",
       "      <th>3</th>\n",
       "      <td>University of Alabama in Huntsville</td>\n",
       "      <td>AL</td>\n",
       "      <td>0.0000</td>\n",
       "      <td>5525</td>\n",
       "      <td>20306</td>\n",
       "      <td>22750.0</td>\n",
       "      <td>1361</td>\n",
       "      <td>50500</td>\n",
       "      <td>45600</td>\n",
       "      <td>32700</td>\n",
       "      <td>1258</td>\n",
       "      <td>39200</td>\n",
       "      <td>35500</td>\n",
       "      <td>25800</td>\n",
       "    </tr>\n",
       "    <tr>\n",
       "      <th>4</th>\n",
       "      <td>Alabama State University</td>\n",
       "      <td>AL</td>\n",
       "      <td>0.0000</td>\n",
       "      <td>5354</td>\n",
       "      <td>17400</td>\n",
       "      <td>31200.0</td>\n",
       "      <td>1977</td>\n",
       "      <td>29500</td>\n",
       "      <td>26700</td>\n",
       "      <td>20500</td>\n",
       "      <td>1594</td>\n",
       "      <td>23100</td>\n",
       "      <td>21000</td>\n",
       "      <td>15100</td>\n",
       "    </tr>\n",
       "    <tr>\n",
       "      <th>5</th>\n",
       "      <td>The University of Alabama</td>\n",
       "      <td>AL</td>\n",
       "      <td>0.0000</td>\n",
       "      <td>28692</td>\n",
       "      <td>26717</td>\n",
       "      <td>22910.0</td>\n",
       "      <td>3648</td>\n",
       "      <td>49900</td>\n",
       "      <td>42700</td>\n",
       "      <td>42600</td>\n",
       "      <td>4322</td>\n",
       "      <td>39000</td>\n",
       "      <td>34800</td>\n",
       "      <td>41800</td>\n",
       "    </tr>\n",
       "  </tbody>\n",
       "</table>\n",
       "</div>"
      ],
      "text/plain": [
       "                                INSTNM STABBR  PCIP15   UGDS  COSTT4_A  \\\n",
       "0             Alabama A & M University     AL  0.0348   4051     18888   \n",
       "1  University of Alabama at Birmingham     AL  0.0000  11200     19990   \n",
       "3  University of Alabama in Huntsville     AL  0.0000   5525     20306   \n",
       "4             Alabama State University     AL  0.0000   5354     17400   \n",
       "5            The University of Alabama     AL  0.0000  28692     26717   \n",
       "\n",
       "   GRAD_DEBT_MDN  COUNT_WNE_P10  MN_EARN_WNE_P10  MD_EARN_WNE_P10  \\\n",
       "0        29500.0           1741            34300            29900   \n",
       "1        20345.5           3474            46400            40200   \n",
       "3        22750.0           1361            50500            45600   \n",
       "4        31200.0           1977            29500            26700   \n",
       "5        22910.0           3648            49900            42700   \n",
       "\n",
       "   SD_EARN_WNE_P10  COUNT_WNE_P6  MN_EARN_WNE_P6  MD_EARN_WNE_P6  \\\n",
       "0            25300          1187           27200           23100   \n",
       "1            36300          2665           38300           34000   \n",
       "3            32700          1258           39200           35500   \n",
       "4            20500          1594           23100           21000   \n",
       "5            42600          4322           39000           34800   \n",
       "\n",
       "   SD_EARN_WNE_P6  \n",
       "0           24200  \n",
       "1           29800  \n",
       "3           25800  \n",
       "4           15100  \n",
       "5           41800  "
      ]
     },
     "execution_count": 5,
     "metadata": {},
     "output_type": "execute_result"
    }
   ],
   "source": [
    "df.head()"
   ]
  },
  {
   "cell_type": "markdown",
   "metadata": {},
   "source": [
    "### to do -- add analysis for college scorecard data -start section"
   ]
  },
  {
   "cell_type": "code",
   "execution_count": 1,
   "metadata": {},
   "outputs": [
    {
     "ename": "NameError",
     "evalue": "name 'plt' is not defined",
     "output_type": "error",
     "traceback": [
      "\u001b[0;31m---------------------------------------------------------------------------\u001b[0m",
      "\u001b[0;31mNameError\u001b[0m                                 Traceback (most recent call last)",
      "\u001b[0;32m<ipython-input-1-9c1c313b8e0c>\u001b[0m in \u001b[0;36m<module>\u001b[0;34m()\u001b[0m\n\u001b[0;32m----> 1\u001b[0;31m \u001b[0mfig\u001b[0m\u001b[0;34m,\u001b[0m \u001b[0maxes\u001b[0m \u001b[0;34m=\u001b[0m \u001b[0mplt\u001b[0m\u001b[0;34m.\u001b[0m\u001b[0msubplots\u001b[0m\u001b[0;34m(\u001b[0m\u001b[0mnrows\u001b[0m\u001b[0;34m=\u001b[0m\u001b[0;36m2\u001b[0m\u001b[0;34m,\u001b[0m \u001b[0mncols\u001b[0m\u001b[0;34m=\u001b[0m\u001b[0;36m2\u001b[0m\u001b[0;34m,\u001b[0m \u001b[0mfigsize\u001b[0m\u001b[0;34m=\u001b[0m\u001b[0;34m(\u001b[0m\u001b[0;36m25\u001b[0m\u001b[0;34m,\u001b[0m\u001b[0;36m15\u001b[0m\u001b[0;34m)\u001b[0m\u001b[0;34m)\u001b[0m\u001b[0;34m\u001b[0m\u001b[0;34m\u001b[0m\u001b[0m\n\u001b[0m\u001b[1;32m      2\u001b[0m \u001b[0max\u001b[0m \u001b[0;34m=\u001b[0m \u001b[0mdf\u001b[0m\u001b[0;34m.\u001b[0m\u001b[0mplot\u001b[0m\u001b[0;34m.\u001b[0m\u001b[0mscatter\u001b[0m\u001b[0;34m(\u001b[0m\u001b[0mx\u001b[0m\u001b[0;34m=\u001b[0m\u001b[0mavg_cost_of_attendance_academic_institutions\u001b[0m\u001b[0;34m,\u001b[0m\u001b[0my\u001b[0m\u001b[0;34m=\u001b[0m\u001b[0mmean_earnings_of_students_wne_10y_after_entry\u001b[0m\u001b[0;34m,\u001b[0m \u001b[0max\u001b[0m\u001b[0;34m=\u001b[0m\u001b[0maxes\u001b[0m\u001b[0;34m[\u001b[0m\u001b[0;36m0\u001b[0m\u001b[0;34m,\u001b[0m\u001b[0;36m0\u001b[0m\u001b[0;34m]\u001b[0m\u001b[0;34m)\u001b[0m\u001b[0;34m\u001b[0m\u001b[0;34m\u001b[0m\u001b[0m\n\u001b[1;32m      3\u001b[0m \u001b[0max\u001b[0m\u001b[0;34m.\u001b[0m\u001b[0mset_xlabel\u001b[0m\u001b[0;34m(\u001b[0m\u001b[0;34m'Cost for Attendance'\u001b[0m\u001b[0;34m)\u001b[0m\u001b[0;34m\u001b[0m\u001b[0;34m\u001b[0m\u001b[0m\n\u001b[1;32m      4\u001b[0m \u001b[0max\u001b[0m\u001b[0;34m.\u001b[0m\u001b[0mset_ylabel\u001b[0m\u001b[0;34m(\u001b[0m\u001b[0;34m'Mean earnings of students'\u001b[0m\u001b[0;34m)\u001b[0m\u001b[0;34m\u001b[0m\u001b[0;34m\u001b[0m\u001b[0m\n\u001b[1;32m      5\u001b[0m \u001b[0max\u001b[0m \u001b[0;34m=\u001b[0m \u001b[0mdf\u001b[0m\u001b[0;34m.\u001b[0m\u001b[0mplot\u001b[0m\u001b[0;34m.\u001b[0m\u001b[0mscatter\u001b[0m\u001b[0;34m(\u001b[0m\u001b[0mx\u001b[0m\u001b[0;34m=\u001b[0m\u001b[0mavg_cost_of_attendance_academic_institutions\u001b[0m\u001b[0;34m,\u001b[0m\u001b[0my\u001b[0m\u001b[0;34m=\u001b[0m\u001b[0mmedian_earnings_of_students_wne_10y_after_entry\u001b[0m\u001b[0;34m,\u001b[0m \u001b[0max\u001b[0m\u001b[0;34m=\u001b[0m\u001b[0maxes\u001b[0m\u001b[0;34m[\u001b[0m\u001b[0;36m0\u001b[0m\u001b[0;34m,\u001b[0m\u001b[0;36m1\u001b[0m\u001b[0;34m]\u001b[0m\u001b[0;34m)\u001b[0m\u001b[0;34m\u001b[0m\u001b[0;34m\u001b[0m\u001b[0m\n",
      "\u001b[0;31mNameError\u001b[0m: name 'plt' is not defined"
     ]
    }
   ],
   "source": [
    "fig, axes = plt.subplots(nrows=2, ncols=2, figsize=(25,15))\n",
    "ax = df.plot.scatter(x=avg_cost_of_attendance_academic_institutions,y=mean_earnings_of_students_wne_10y_after_entry, ax=axes[0,0])\n",
    "ax.set_xlabel('Cost for Attendance')\n",
    "ax.set_ylabel('Mean earnings of students')\n",
    "ax = df.plot.scatter(x=avg_cost_of_attendance_academic_institutions,y=median_earnings_of_students_wne_10y_after_entry, ax=axes[0,1])\n",
    "ax.set_xlabel('Cost for Attendance')\n",
    "ax.set_ylabel('Median earnings of students')\n",
    "\n",
    "ax = df.plot.scatter(x=avg_cost_of_attendance_academic_institutions,y=mean_earnings_of_students_wne_6y_after_entry, ax=axes[1,0])\n",
    "ax.set_xlabel('Cost for Attendance')\n",
    "ax.set_ylabel('Mean earnings of students')\n",
    "ax = df.plot.scatter(x=avg_cost_of_attendance_academic_institutions,y=median_earnings_of_students_wne_6y_after_entry, ax=axes[1,1])\n",
    "ax.set_xlabel('Cost for Attendance')\n",
    "ax.set_ylabel('Median earnings of students')\n",
    "\n",
    "# Add plot title for the entire subplot row\n",
    "fig.text(0.5, 0.90, 'Student earnings data 10 years after entering college', ha='center', va='center', fontsize=20)\n",
    "fig.text(0.5, 0.49, 'Student earnings data 6 years after entering college', ha='center', va='center', fontsize=20)\n",
    "\n",
    "f1 = plt.gcf()"
   ]
  },
  {
   "cell_type": "code",
   "execution_count": null,
   "metadata": {},
   "outputs": [],
   "source": [
    "public_institutions = df[df[ownership] == 1]\n",
    "private_institutions = df[df[ownership] != 1]\n",
    "mean_public_10y = public_institutions[mean_earnings_of_students_wne_10y_after_entry].mean()\n",
    "mean_private_10y = private_institutions[mean_earnings_of_students_wne_10y_after_entry].mean()\n",
    "\n",
    "mean_public_6y = public_institutions[mean_earnings_of_students_wne_6y_after_entry].mean()\n",
    "mean_private_6y = private_institutions[mean_earnings_of_students_wne_6y_after_entry].mean()\n",
    "\n",
    "print(ttest_ind(public_institutions[mean_earnings_of_students_wne_10y_after_entry], private_institutions[mean_earnings_of_students_wne_10y_after_entry]))\n",
    "print(ttest_ind(public_institutions[mean_earnings_of_students_wne_6y_after_entry], private_institutions[mean_earnings_of_students_wne_6y_after_entry] ))"
   ]
  },
  {
   "cell_type": "code",
   "execution_count": null,
   "metadata": {},
   "outputs": [],
   "source": [
    "print('meanpublic_10y:',mean_public_10y)\n",
    "print('meanprivate_10y:',mean_private_10y)\n",
    "\n",
    "print('meanpublic_6y:',mean_public_6y)\n",
    "print('meanprivate_6y:',mean_private_6y)\n"
   ]
  },
  {
   "cell_type": "code",
   "execution_count": null,
   "metadata": {},
   "outputs": [],
   "source": [
    "fig, axes = plt.subplots(nrows=2, ncols=2, figsize=(25,15))\n",
    "ax = public_institutions.plot.scatter(x=avg_cost_of_attendance_academic_institutions,y=mean_earnings_of_students_wne_10y_after_entry, ax=axes[0,0])\n",
    "ax.set_xlabel('Cost for Attendance')\n",
    "ax.set_ylabel('Mean earnings of students')\n",
    "ax = public_institutions.plot.scatter(x=avg_cost_of_attendance_academic_institutions,y=median_earnings_of_students_wne_10y_after_entry, ax=axes[0,1])\n",
    "ax.set_xlabel('Cost for Attendance')\n",
    "ax.set_ylabel('Median earnings of students')\n",
    "\n",
    "ax = private_institutions.plot.scatter(x=avg_cost_of_attendance_academic_institutions,y=mean_earnings_of_students_wne_10y_after_entry, ax=axes[1,0])\n",
    "ax.set_xlabel('Cost for Attendance')\n",
    "ax.set_ylabel('Mean earnings of students')\n",
    "ax = private_institutions.plot.scatter(x=avg_cost_of_attendance_academic_institutions,y=median_earnings_of_students_wne_10y_after_entry, ax=axes[1,1])\n",
    "ax.set_xlabel('Cost for Attendance')\n",
    "ax.set_ylabel('Median earnings of students')\n",
    "\n",
    "# Add plot title for the entire subplot row\n",
    "fig.text(0.5, 0.90, 'Student earnings data for public institutions', ha='center', va='center', fontsize=20)\n",
    "fig.text(0.5, 0.49, 'Student earnings data for private institutions', ha='center', va='center', fontsize=20)\n",
    "\n",
    "f2 = plt.gcf()"
   ]
  },
  {
   "cell_type": "code",
   "execution_count": null,
   "metadata": {},
   "outputs": [],
   "source": [
    "md_earning6 = df['MD_EARN_WNE_P6'].mean()\n",
    "avg_earning6 = df['MN_EARN_WNE_P6'].mean()\n",
    "avg_cost = df['COSTT4_A'].mean()\n",
    "\n",
    "cost_leaving = 4*avg_cost\n",
    "md_dbt_leaving = df['GRAD_DEBT_MDN'].mean()\n",
    "#Plotting with interest\n",
    "y = [0]*8\n",
    "y[0]= md_dbt_leaving\n",
    "for i in range(1,8):\n",
    "    y[i]= y[i-1]*(1.055)-.10*(md_earning6)\n",
    "    \n",
    "\n",
    "#without interest the years to recoup investement\n",
    "yrs_in= cost_leaving/md_earning6\n",
    "#This is about 3\n"
   ]
  },
  {
   "cell_type": "code",
   "execution_count": null,
   "metadata": {},
   "outputs": [],
   "source": [
    "yf = pd.DataFrame(y)\n",
    "yf.plot(title= 'Debt after college paying 10% salary a year')\n",
    "plt.xlabel('Years after graduation')\n",
    "plt.ylabel('Debt in Dollars')"
   ]
  },
  {
   "cell_type": "code",
   "execution_count": null,
   "metadata": {},
   "outputs": [],
   "source": [
    "sns.set(rc={'figure.figsize':(19,9)})\n",
    "sns.violinplot(x= df[\"STABBR\"],y=df[\"MN_EARN_WNE_P6\"])"
   ]
  },
  {
   "cell_type": "markdown",
   "metadata": {},
   "source": [
    "### to do -- add analysis for college scorecard data - end section"
   ]
  },
  {
   "cell_type": "markdown",
   "metadata": {},
   "source": [
    "Next we want to look at the dataset that has information on colleges based on college type and region."
   ]
  },
  {
   "cell_type": "code",
   "execution_count": 6,
   "metadata": {},
   "outputs": [],
   "source": [
    "degrees_that_pay_back = pd.read_csv('degrees-that-pay-back.csv')\n",
    "salaries_by_college_type = pd.read_csv('salaries-by-college-type.csv')\n",
    "salaries_by_region = pd.read_csv ('salaries-by-region.csv')"
   ]
  },
  {
   "cell_type": "markdown",
   "metadata": {},
   "source": [
    "We want to merge these 3 datasets and drop the information we wont be using. Also, our data was entered as strings with special characters so we need to change that information to float integer."
   ]
  },
  {
   "cell_type": "code",
   "execution_count": 7,
   "metadata": {},
   "outputs": [],
   "source": [
    "df_merge = pd.merge(salaries_by_college_type,salaries_by_region, on = 'School Name',how = 'left')\n",
    "df_merge.drop(['Starting Median Salary_y','Mid-Career Median Salary_y','Mid-Career 10th Percentile Salary_y',\n",
    "        'Mid-Career 25th Percentile Salary_y','Mid-Career 75th Percentile Salary_y',\n",
    "        'Mid-Career 90th Percentile Salary_y'],axis = 1,inplace = True) \n",
    "df_merge.columns = ['School_Name','School_Type','Starting_Median_Salary','Mid_Career_Median_Salary',\n",
    "             'Mid_Career_10th_Percentile_Salary','Mid_Career_25th_Percentile_Salary',\n",
    "             'Mid_Career_75th_Percentile_Salary','Mid_Career_90th_Percentile_Salary','Region']\n",
    "\n",
    "df_merge.drop(['Mid_Career_10th_Percentile_Salary','Mid_Career_90th_Percentile_Salary'],axis = 1, inplace = True)\n",
    "\n",
    "df_merge['Starting_Median_Salary']= df_merge['Starting_Median_Salary'].str.replace('$','')\n",
    "df_merge['Starting_Median_Salary']= df_merge['Starting_Median_Salary'].str.replace(',','')\n",
    "df_merge['Starting_Median_Salary']= df_merge['Starting_Median_Salary'].replace('.00','')\n",
    "df_merge['Starting_Median_Salary'] = df_merge['Starting_Median_Salary'].astype(float)\n",
    "\n",
    "df_merge['Mid_Career_Median_Salary']= df_merge['Mid_Career_Median_Salary'].str.replace('$','')\n",
    "df_merge['Mid_Career_Median_Salary']= df_merge['Mid_Career_Median_Salary'].str.replace(',','')\n",
    "df_merge['Mid_Career_Median_Salary']= df_merge['Mid_Career_Median_Salary'].replace('.00','')\n",
    "df_merge['Mid_Career_Median_Salary'] = df_merge['Mid_Career_Median_Salary'].astype(float)\n",
    "\n",
    "df_merge['Mid_Career_25th_Percentile_Salary'] = df_merge['Mid_Career_25th_Percentile_Salary'].str.replace('$','')\n",
    "df_merge['Mid_Career_25th_Percentile_Salary'] = df_merge['Mid_Career_25th_Percentile_Salary'].str.replace(',','')\n",
    "df_merge['Mid_Career_25th_Percentile_Salary'] = df_merge['Mid_Career_25th_Percentile_Salary'].replace('.00','')\n",
    "df_merge['Mid_Career_25th_Percentile_Salary'] = df_merge['Mid_Career_25th_Percentile_Salary'].astype(float)\n",
    "\n",
    "df_merge['Mid_Career_75th_Percentile_Salary'] = df_merge['Mid_Career_75th_Percentile_Salary'].str.replace('$','')\n",
    "df_merge['Mid_Career_75th_Percentile_Salary'] = df_merge['Mid_Career_75th_Percentile_Salary'].str.replace(',','')\n",
    "df_merge['Mid_Career_75th_Percentile_Salary'] = df_merge['Mid_Career_75th_Percentile_Salary'].replace('.00','')\n",
    "df_merge['Mid_Career_75th_Percentile_Salary'] = df_merge['Mid_Career_75th_Percentile_Salary'].astype(float)"
   ]
  },
  {
   "cell_type": "code",
   "execution_count": 8,
   "metadata": {},
   "outputs": [
    {
     "data": {
      "text/html": [
       "<div>\n",
       "<style scoped>\n",
       "    .dataframe tbody tr th:only-of-type {\n",
       "        vertical-align: middle;\n",
       "    }\n",
       "\n",
       "    .dataframe tbody tr th {\n",
       "        vertical-align: top;\n",
       "    }\n",
       "\n",
       "    .dataframe thead th {\n",
       "        text-align: right;\n",
       "    }\n",
       "</style>\n",
       "<table border=\"1\" class=\"dataframe\">\n",
       "  <thead>\n",
       "    <tr style=\"text-align: right;\">\n",
       "      <th></th>\n",
       "      <th>School_Name</th>\n",
       "      <th>School_Type</th>\n",
       "      <th>Starting_Median_Salary</th>\n",
       "      <th>Mid_Career_Median_Salary</th>\n",
       "      <th>Mid_Career_25th_Percentile_Salary</th>\n",
       "      <th>Mid_Career_75th_Percentile_Salary</th>\n",
       "      <th>Region</th>\n",
       "    </tr>\n",
       "  </thead>\n",
       "  <tbody>\n",
       "    <tr>\n",
       "      <th>0</th>\n",
       "      <td>Massachusetts Institute of Technology (MIT)</td>\n",
       "      <td>Engineering</td>\n",
       "      <td>72200.0</td>\n",
       "      <td>126000.0</td>\n",
       "      <td>99200.0</td>\n",
       "      <td>168000.0</td>\n",
       "      <td>Northeastern</td>\n",
       "    </tr>\n",
       "    <tr>\n",
       "      <th>1</th>\n",
       "      <td>California Institute of Technology (CIT)</td>\n",
       "      <td>Engineering</td>\n",
       "      <td>75500.0</td>\n",
       "      <td>123000.0</td>\n",
       "      <td>104000.0</td>\n",
       "      <td>161000.0</td>\n",
       "      <td>California</td>\n",
       "    </tr>\n",
       "    <tr>\n",
       "      <th>2</th>\n",
       "      <td>Harvey Mudd College</td>\n",
       "      <td>Engineering</td>\n",
       "      <td>71800.0</td>\n",
       "      <td>122000.0</td>\n",
       "      <td>96000.0</td>\n",
       "      <td>180000.0</td>\n",
       "      <td>California</td>\n",
       "    </tr>\n",
       "    <tr>\n",
       "      <th>3</th>\n",
       "      <td>Polytechnic University of New York, Brooklyn</td>\n",
       "      <td>Engineering</td>\n",
       "      <td>62400.0</td>\n",
       "      <td>114000.0</td>\n",
       "      <td>94300.0</td>\n",
       "      <td>143000.0</td>\n",
       "      <td>Northeastern</td>\n",
       "    </tr>\n",
       "    <tr>\n",
       "      <th>4</th>\n",
       "      <td>Cooper Union</td>\n",
       "      <td>Engineering</td>\n",
       "      <td>62200.0</td>\n",
       "      <td>114000.0</td>\n",
       "      <td>80200.0</td>\n",
       "      <td>142000.0</td>\n",
       "      <td>Northeastern</td>\n",
       "    </tr>\n",
       "  </tbody>\n",
       "</table>\n",
       "</div>"
      ],
      "text/plain": [
       "                                    School_Name  School_Type  \\\n",
       "0   Massachusetts Institute of Technology (MIT)  Engineering   \n",
       "1      California Institute of Technology (CIT)  Engineering   \n",
       "2                           Harvey Mudd College  Engineering   \n",
       "3  Polytechnic University of New York, Brooklyn  Engineering   \n",
       "4                                  Cooper Union  Engineering   \n",
       "\n",
       "   Starting_Median_Salary  Mid_Career_Median_Salary  \\\n",
       "0                 72200.0                  126000.0   \n",
       "1                 75500.0                  123000.0   \n",
       "2                 71800.0                  122000.0   \n",
       "3                 62400.0                  114000.0   \n",
       "4                 62200.0                  114000.0   \n",
       "\n",
       "   Mid_Career_25th_Percentile_Salary  Mid_Career_75th_Percentile_Salary  \\\n",
       "0                            99200.0                           168000.0   \n",
       "1                           104000.0                           161000.0   \n",
       "2                            96000.0                           180000.0   \n",
       "3                            94300.0                           143000.0   \n",
       "4                            80200.0                           142000.0   \n",
       "\n",
       "         Region  \n",
       "0  Northeastern  \n",
       "1    California  \n",
       "2    California  \n",
       "3  Northeastern  \n",
       "4  Northeastern  "
      ]
     },
     "execution_count": 8,
     "metadata": {},
     "output_type": "execute_result"
    }
   ],
   "source": [
    "df_merge.head()"
   ]
  },
  {
   "cell_type": "markdown",
   "metadata": {},
   "source": [
    "# Data Analysis & Results"
   ]
  },
  {
   "cell_type": "markdown",
   "metadata": {},
   "source": [
    "Include cells that describe the steps in your data analysis."
   ]
  },
  {
   "cell_type": "markdown",
   "metadata": {},
   "source": [
    "  We will start by looking at the merged data about college type and region."
   ]
  },
  {
   "cell_type": "markdown",
   "metadata": {},
   "source": [
    "We were curious as to the difference in the median starting and mid career salaries for graduates of the different categories for schools. Intuitively we assume that Ivy League and Engineering schools are going to have a higher payoff but we need to see if our data supports that."
   ]
  },
  {
   "cell_type": "code",
   "execution_count": 26,
   "metadata": {},
   "outputs": [],
   "source": [
    "ME=df_merge.loc[df_merge['School_Type']==\"Engineering\"].mean()\n",
    "PP=df_merge.loc[df_merge['School_Type']==\"Party\"].mean()\n",
    "LAM=df_merge.loc[df_merge['School_Type']==\"Liberal Arts\"].mean()\n",
    "ILM=df_merge.loc[df_merge['School_Type']==\"Ivy League\"].mean()\n",
    "SM=df_merge.loc[df_merge['School_Type']==\"State\"].mean()"
   ]
  },
  {
   "cell_type": "code",
   "execution_count": 32,
   "metadata": {},
   "outputs": [
    {
     "data": {
      "text/html": [
       "<div>\n",
       "<style scoped>\n",
       "    .dataframe tbody tr th:only-of-type {\n",
       "        vertical-align: middle;\n",
       "    }\n",
       "\n",
       "    .dataframe tbody tr th {\n",
       "        vertical-align: top;\n",
       "    }\n",
       "\n",
       "    .dataframe thead th {\n",
       "        text-align: right;\n",
       "    }\n",
       "</style>\n",
       "<table border=\"1\" class=\"dataframe\">\n",
       "  <thead>\n",
       "    <tr style=\"text-align: right;\">\n",
       "      <th></th>\n",
       "      <th>School_Type</th>\n",
       "      <th>Avg_starting_median</th>\n",
       "      <th>Avg_mid_career_median</th>\n",
       "    </tr>\n",
       "  </thead>\n",
       "  <tbody>\n",
       "    <tr>\n",
       "      <th>1</th>\n",
       "      <td>Engineering</td>\n",
       "      <td>59057.894737</td>\n",
       "      <td>103842.105263</td>\n",
       "    </tr>\n",
       "    <tr>\n",
       "      <th>2</th>\n",
       "      <td>Party</td>\n",
       "      <td>45715.000000</td>\n",
       "      <td>84685.000000</td>\n",
       "    </tr>\n",
       "    <tr>\n",
       "      <th>3</th>\n",
       "      <td>Liberal Arts</td>\n",
       "      <td>45746.808511</td>\n",
       "      <td>89378.723404</td>\n",
       "    </tr>\n",
       "    <tr>\n",
       "      <th>4</th>\n",
       "      <td>Ivy</td>\n",
       "      <td>60475.000000</td>\n",
       "      <td>120125.000000</td>\n",
       "    </tr>\n",
       "    <tr>\n",
       "      <th>5</th>\n",
       "      <td>State</td>\n",
       "      <td>44126.285714</td>\n",
       "      <td>78567.428571</td>\n",
       "    </tr>\n",
       "  </tbody>\n",
       "</table>\n",
       "</div>"
      ],
      "text/plain": [
       "    School_Type  Avg_starting_median  Avg_mid_career_median\n",
       "1   Engineering         59057.894737          103842.105263\n",
       "2         Party         45715.000000           84685.000000\n",
       "3  Liberal Arts         45746.808511           89378.723404\n",
       "4           Ivy         60475.000000          120125.000000\n",
       "5         State         44126.285714           78567.428571"
      ]
     },
     "execution_count": 32,
     "metadata": {},
     "output_type": "execute_result"
    }
   ],
   "source": [
    "salary = {'1':[\"Engineering\",59057.894737,103842.105263],'2':[\"Party\",45715.0,84685.0],\n",
    "          '3':[\"Liberal Arts\",45746.808511,89378.723404],'4':[\"Ivy\",60475.0,120125.0],\n",
    "          '5':[\"State\",44126.285714,78567.428571]}\n",
    "Salary = pd.DataFrame.from_dict(salary,orient = 'index',columns=['School_Type','Avg_starting_median',\n",
    "                                                                 'Avg_mid_career_median'])\n",
    "Salary"
   ]
  },
  {
   "cell_type": "code",
   "execution_count": 33,
   "metadata": {},
   "outputs": [
    {
     "data": {
      "text/plain": [
       "<matplotlib.axes._subplots.AxesSubplot at 0x211709b36a0>"
      ]
     },
     "execution_count": 33,
     "metadata": {},
     "output_type": "execute_result"
    },
    {
     "data": {
      "image/png": "[encoded data removed]",
      "text/plain": [
       "<Figure size 720x468 with 1 Axes>"
      ]
     },
     "metadata": {
      "needs_background": "light"
     },
     "output_type": "display_data"
    }
   ],
   "source": [
    "Salary.plot.bar(x = 'School_Type',figsize = (10,6.5),rot = 0)"
   ]
  },
  {
   "cell_type": "markdown",
   "metadata": {},
   "source": [
    "From this bar plot it looks like Party, Liberal arts, and State schools have lower starting and mid career salaries than that of Engineering and Ivy League. \n",
    "\n",
    "In order to see if this difference is statistically significant we decided to run an ANOVA test for the difference in average salary for the different school types.\n",
    "We tested-  \n",
    "H0: The mean starting salary is the same for all school types. V.S.\n",
    "H1: The mean starting salary is not the same for all school types."
   ]
  },
  {
   "cell_type": "code",
   "execution_count": 40,
   "metadata": {},
   "outputs": [
    {
     "name": "stdout",
     "output_type": "stream",
     "text": [
      "                df        sum_sq       mean_sq          F        PR(>F)\n",
      "School_Type    4.0  5.533638e+09  1.383410e+09  66.561438  7.056857e-39\n",
      "Residual     264.0  5.486963e+09  2.078395e+07        NaN           NaN\n"
     ]
    }
   ],
   "source": [
    "mod1 = ols('Starting_Median_Salary ~ School_Type',data=df_merge).fit()\n",
    "anova_table = sm.stats.anova_lm(mod1,type=2)\n",
    "print(anova_table)"
   ]
  },
  {
   "cell_type": "markdown",
   "metadata": {},
   "source": [
    "We have a very low p-value therefore we reject the null hypothesis in favor of the alternative and conclude that there is statistical evidence that the starting salary is affected by the type of school attended. Now we will look at the mid career median assumin ghte same null and alternative hypothesis."
   ]
  },
  {
   "cell_type": "code",
   "execution_count": 41,
   "metadata": {},
   "outputs": [
    {
     "name": "stdout",
     "output_type": "stream",
     "text": [
      "                df        sum_sq       mean_sq          F        PR(>F)\n",
      "School_Type    4.0  2.445324e+10  6.113310e+09  52.694356  1.349855e-32\n",
      "Residual     264.0  3.062783e+10  1.160145e+08        NaN           NaN\n"
     ]
    }
   ],
   "source": [
    "mod2 = ols('Mid_Career_Median_Salary ~ School_Type',data=df_merge).fit()\n",
    "anova_table = sm.stats.anova_lm(mod2,type=2)\n",
    "print(anova_table)"
   ]
  },
  {
   "cell_type": "markdown",
   "metadata": {},
   "source": [
    "Again we have a very low p-value so we arrive at the same conclusion as for the starting median salary."
   ]
  },
  {
   "cell_type": "markdown",
   "metadata": {},
   "source": [
    "Now we want to look at how the salaries are different between the regions the schools are located in."
   ]
  },
  {
   "cell_type": "code",
   "execution_count": 38,
   "metadata": {},
   "outputs": [
    {
     "data": {
      "text/html": [
       "<div>\n",
       "<style scoped>\n",
       "    .dataframe tbody tr th:only-of-type {\n",
       "        vertical-align: middle;\n",
       "    }\n",
       "\n",
       "    .dataframe tbody tr th {\n",
       "        vertical-align: top;\n",
       "    }\n",
       "\n",
       "    .dataframe thead th {\n",
       "        text-align: right;\n",
       "    }\n",
       "</style>\n",
       "<table border=\"1\" class=\"dataframe\">\n",
       "  <thead>\n",
       "    <tr style=\"text-align: right;\">\n",
       "      <th></th>\n",
       "      <th>Region</th>\n",
       "      <th>Avg_starting_median</th>\n",
       "      <th>Avg_mid_career_median</th>\n",
       "    </tr>\n",
       "  </thead>\n",
       "  <tbody>\n",
       "    <tr>\n",
       "      <th>1</th>\n",
       "      <td>Northeastern</td>\n",
       "      <td>49267.142857</td>\n",
       "      <td>93518.571429</td>\n",
       "    </tr>\n",
       "    <tr>\n",
       "      <th>2</th>\n",
       "      <td>California</td>\n",
       "      <td>50155.555556</td>\n",
       "      <td>91633.333333</td>\n",
       "    </tr>\n",
       "    <tr>\n",
       "      <th>3</th>\n",
       "      <td>Southern</td>\n",
       "      <td>44288.235294</td>\n",
       "      <td>80302.941176</td>\n",
       "    </tr>\n",
       "    <tr>\n",
       "      <th>4</th>\n",
       "      <td>Western</td>\n",
       "      <td>44151.282051</td>\n",
       "      <td>78135.897436</td>\n",
       "    </tr>\n",
       "    <tr>\n",
       "      <th>5</th>\n",
       "      <td>Midwestern</td>\n",
       "      <td>43801.562500</td>\n",
       "      <td>77637.500000</td>\n",
       "    </tr>\n",
       "  </tbody>\n",
       "</table>\n",
       "</div>"
      ],
      "text/plain": [
       "         Region  Avg_starting_median  Avg_mid_career_median\n",
       "1  Northeastern         49267.142857           93518.571429\n",
       "2    California         50155.555556           91633.333333\n",
       "3      Southern         44288.235294           80302.941176\n",
       "4       Western         44151.282051           78135.897436\n",
       "5    Midwestern         43801.562500           77637.500000"
      ]
     },
     "execution_count": 38,
     "metadata": {},
     "output_type": "execute_result"
    }
   ],
   "source": [
    "RN=df_merge.loc[df_merge['Region']==\"Northeastern\"].mean()\n",
    "RC=df_merge.loc[df_merge['Region']==\"California\"].mean()\n",
    "RS=df_merge.loc[df_merge['Region']==\"Southern\"].mean()\n",
    "RW=df_merge.loc[df_merge['Region']==\"Western\"].mean()\n",
    "RM=df_merge.loc[df_merge['Region']==\"Midwestern\"].mean()\n",
    "region = {'1':[\"Northeastern\",49267.142857,93518.571429],'2':[\"California\",50155.555556,91633.333333],\n",
    "         '3':[\"Southern\", 44288.235294,80302.941176],'4':[\"Western\",44151.282051,78135.897436],\n",
    "         '5':[\"Midwestern\",43801.5625,77637.5000]}\n",
    "Region = pd.DataFrame.from_dict(region,orient = 'index',columns=['Region','Avg_starting_median',\n",
    "                                                                 'Avg_mid_career_median'])\n",
    "Region"
   ]
  },
  {
   "cell_type": "code",
   "execution_count": 39,
   "metadata": {},
   "outputs": [
    {
     "data": {
      "text/plain": [
       "<matplotlib.axes._subplots.AxesSubplot at 0x211782a8f98>"
      ]
     },
     "execution_count": 39,
     "metadata": {},
     "output_type": "execute_result"
    },
    {
     "data": {
      "image/png": "[encoded data removed]",
      "text/plain": [
       "<Figure size 720x540 with 1 Axes>"
      ]
     },
     "metadata": {
      "needs_background": "light"
     },
     "output_type": "display_data"
    }
   ],
   "source": [
    "Region.plot.bar(x = 'Region',figsize = (10,7.5),rot = 0)"
   ]
  },
  {
   "cell_type": "markdown",
   "metadata": {},
   "source": [
    "Again both the starting and mid career salaries appear to be different so we want to test to see if the difference is statistically significant. We proceed with ANOVA testing for- H0: The average salary is the same for all regions.\n",
    "V.S.\n",
    "H1: the starting salary is not the same for all regions."
   ]
  },
  {
   "cell_type": "code",
   "execution_count": 42,
   "metadata": {},
   "outputs": [
    {
     "name": "stdout",
     "output_type": "stream",
     "text": [
      "             df        sum_sq       mean_sq         F        PR(>F)\n",
      "Region      4.0  1.854800e+09  4.637001e+08  13.36962  6.234456e-10\n",
      "Residual  263.0  9.121659e+09  3.468311e+07       NaN           NaN\n"
     ]
    }
   ],
   "source": [
    "mod3 = ols('Starting_Median_Salary ~ Region',data=df_merge).fit()\n",
    "anova_table = sm.stats.anova_lm(mod3,type=2)\n",
    "print(anova_table)"
   ]
  },
  {
   "cell_type": "code",
   "execution_count": 43,
   "metadata": {},
   "outputs": [
    {
     "name": "stdout",
     "output_type": "stream",
     "text": [
      "             df        sum_sq       mean_sq          F        PR(>F)\n",
      "Region      4.0  1.277600e+10  3.193999e+09  19.861213  2.654115e-14\n",
      "Residual  263.0  4.229459e+10  1.608159e+08        NaN           NaN\n"
     ]
    }
   ],
   "source": [
    "mod4 = ols('Mid_Career_Median_Salary ~ Region',data=df_merge).fit()\n",
    "anova_table = sm.stats.anova_lm(mod4,type=2)\n",
    "print(anova_table)"
   ]
  },
  {
   "cell_type": "markdown",
   "metadata": {},
   "source": [
    "The p-value is very low for both mid career and starting salaries so we conclude that the region that the school is located in does in fact affect the salary for the graduate."
   ]
  },
  {
   "cell_type": "code",
   "execution_count": 18,
   "metadata": {},
   "outputs": [],
   "source": [
    "df_merge['value_growth'] = df_merge['Mid_Career_Median_Salary'] - df_merge['Starting_Median_Salary']\n",
    "RN=df_merge.loc[df_merge['Region']==\"Northeastern\"].mean()\n",
    "RC=df_merge.loc[df_merge['Region']==\"California\"].mean()\n",
    "RS=df_merge.loc[df_merge['Region']==\"Southern\"].mean()\n",
    "RW=df_merge.loc[df_merge['Region']==\"Western\"].mean()\n",
    "RM=df_merge.loc[df_merge['Region']==\"Midwestern\"].mean()"
   ]
  },
  {
   "cell_type": "code",
   "execution_count": 20,
   "metadata": {},
   "outputs": [],
   "source": [
    "value_growth = {'1':[\"Northeastern\",44251.428571],'2':[\"California\",41477.777778],\n",
    "          '3':[\"Southern\",36014.705882],'4':[\"Western\",33984.615385],\n",
    "          '5':[\"Midwestern\",33835.937500]}\n",
    "Value_growth = pd.DataFrame.from_dict(value_growth,orient = 'index',columns=['Region','Avg_value_growth'])"
   ]
  },
  {
   "cell_type": "code",
   "execution_count": 21,
   "metadata": {},
   "outputs": [
    {
     "data": {
      "text/html": [
       "<div>\n",
       "<style scoped>\n",
       "    .dataframe tbody tr th:only-of-type {\n",
       "        vertical-align: middle;\n",
       "    }\n",
       "\n",
       "    .dataframe tbody tr th {\n",
       "        vertical-align: top;\n",
       "    }\n",
       "\n",
       "    .dataframe thead th {\n",
       "        text-align: right;\n",
       "    }\n",
       "</style>\n",
       "<table border=\"1\" class=\"dataframe\">\n",
       "  <thead>\n",
       "    <tr style=\"text-align: right;\">\n",
       "      <th></th>\n",
       "      <th>Region</th>\n",
       "      <th>Avg_value_growth</th>\n",
       "    </tr>\n",
       "  </thead>\n",
       "  <tbody>\n",
       "    <tr>\n",
       "      <th>1</th>\n",
       "      <td>Northeastern</td>\n",
       "      <td>44251.428571</td>\n",
       "    </tr>\n",
       "    <tr>\n",
       "      <th>2</th>\n",
       "      <td>California</td>\n",
       "      <td>41477.777778</td>\n",
       "    </tr>\n",
       "    <tr>\n",
       "      <th>3</th>\n",
       "      <td>Southern</td>\n",
       "      <td>36014.705882</td>\n",
       "    </tr>\n",
       "    <tr>\n",
       "      <th>4</th>\n",
       "      <td>Western</td>\n",
       "      <td>33984.615385</td>\n",
       "    </tr>\n",
       "    <tr>\n",
       "      <th>5</th>\n",
       "      <td>Midwestern</td>\n",
       "      <td>33835.937500</td>\n",
       "    </tr>\n",
       "  </tbody>\n",
       "</table>\n",
       "</div>"
      ],
      "text/plain": [
       "         Region  Avg_value_growth\n",
       "1  Northeastern      44251.428571\n",
       "2    California      41477.777778\n",
       "3      Southern      36014.705882\n",
       "4       Western      33984.615385\n",
       "5    Midwestern      33835.937500"
      ]
     },
     "execution_count": 21,
     "metadata": {},
     "output_type": "execute_result"
    }
   ],
   "source": [
    "Value_growth"
   ]
  },
  {
   "cell_type": "code",
   "execution_count": 14,
   "metadata": {},
   "outputs": [],
   "source": [
    "df_merge['percent_growth'] = (df_merge['Mid_Career_Median_Salary'] - df_merge['Starting_Median_Salary']) / df_merge['Starting_Median_Salary']\n",
    "PEm=df_merge.loc[df_merge['School_Type']==\"Engineering\"].mean()\n",
    "PPm=df_merge.loc[df_merge['School_Type']==\"Party\"].mean()\n",
    "PLAm=df_merge.loc[df_merge['School_Type']==\"Liberal Arts\"].mean()\n",
    "PILm=df_merge.loc[df_merge['School_Type']==\"Ivy League\"].mean()\n",
    "PSm=df_merge.loc[df_merge['School_Type']==\"State\"].mean()"
   ]
  },
  {
   "cell_type": "code",
   "execution_count": 15,
   "metadata": {},
   "outputs": [
    {
     "data": {
      "text/html": [
       "<div>\n",
       "<style scoped>\n",
       "    .dataframe tbody tr th:only-of-type {\n",
       "        vertical-align: middle;\n",
       "    }\n",
       "\n",
       "    .dataframe tbody tr th {\n",
       "        vertical-align: top;\n",
       "    }\n",
       "\n",
       "    .dataframe thead th {\n",
       "        text-align: right;\n",
       "    }\n",
       "</style>\n",
       "<table border=\"1\" class=\"dataframe\">\n",
       "  <thead>\n",
       "    <tr style=\"text-align: right;\">\n",
       "      <th></th>\n",
       "      <th>School_Type</th>\n",
       "      <th>Avg_percent_growth</th>\n",
       "    </tr>\n",
       "  </thead>\n",
       "  <tbody>\n",
       "    <tr>\n",
       "      <th>1</th>\n",
       "      <td>Engineering</td>\n",
       "      <td>75.9268</td>\n",
       "    </tr>\n",
       "    <tr>\n",
       "      <th>2</th>\n",
       "      <td>Party</td>\n",
       "      <td>85.3880</td>\n",
       "    </tr>\n",
       "    <tr>\n",
       "      <th>3</th>\n",
       "      <td>Liberal Arts</td>\n",
       "      <td>94.9769</td>\n",
       "    </tr>\n",
       "    <tr>\n",
       "      <th>4</th>\n",
       "      <td>Ivy</td>\n",
       "      <td>98.7949</td>\n",
       "    </tr>\n",
       "    <tr>\n",
       "      <th>5</th>\n",
       "      <td>State</td>\n",
       "      <td>77.7584</td>\n",
       "    </tr>\n",
       "  </tbody>\n",
       "</table>\n",
       "</div>"
      ],
      "text/plain": [
       "    School_Type  Avg_percent_growth\n",
       "1   Engineering             75.9268\n",
       "2         Party             85.3880\n",
       "3  Liberal Arts             94.9769\n",
       "4           Ivy             98.7949\n",
       "5         State             77.7584"
      ]
     },
     "execution_count": 15,
     "metadata": {},
     "output_type": "execute_result"
    }
   ],
   "source": [
    "percent_growth = {'1':[\"Engineering\",0.759268*100],'2':[\"Party\",0.85388*100],\n",
    "          '3':[\"Liberal Arts\", 0.949769*100],'4':[\"Ivy\",0.987949*100],\n",
    "          '5':[\"State\",0.777584*100]}\n",
    "Percent_growth = pd.DataFrame.from_dict(percent_growth,orient = 'index',columns=['School_Type','Avg_percent_growth'])\n",
    "Percent_growth"
   ]
  },
  {
   "cell_type": "code",
   "execution_count": 17,
   "metadata": {},
   "outputs": [
    {
     "data": {
      "text/plain": [
       "<matplotlib.axes._subplots.AxesSubplot at 0x2117fb69c18>"
      ]
     },
     "execution_count": 17,
     "metadata": {},
     "output_type": "execute_result"
    },
    {
     "data": {
      "image/png": "[encoded data removed]",
      "text/plain": [
       "<Figure size 504x540 with 1 Axes>"
      ]
     },
     "metadata": {
      "needs_background": "light"
     },
     "output_type": "display_data"
    }
   ],
   "source": [
    "Percent_growth.plot.bar(x = 'School_Type',figsize = (7,7.5),rot = 0)"
   ]
  },
  {
   "cell_type": "markdown",
   "metadata": {},
   "source": [
    "# Ethics & Privacy"
   ]
  },
  {
   "cell_type": "markdown",
   "metadata": {},
   "source": [
    "The costs of schooling have been rising recently and we want people to be the most informed as to whether the cost of schooling is worth the money based on the expected payoff of their chosen major. We do not intend to discourage people from attending college or pursuing their passions and if our data ends up showing that certain areas or degrees are not profitable we hope that it does not have a large impact on the people who chose that area of study.\n",
    "\n",
    "Throughout the collection of data, we hoped to show exactly how prices of colleges have risen and how the salaries out of college compare to the increase of cost for attendance. Is it ethical for colleges to continue charging students this much especially if they do not proportionally increase their resources to match the increase in students attending? If they are taking in more resources and money per student, where is the extra money going, if not towards the students?\n",
    "\n",
    "We obtained our data from different datasets. Our primary dataset is the U.S. Department of Education College Scorecard Database. This source is widely known and regulated and thus proposes minimal risks in terms of bias. Our other dataset is from the Wall Street Journal which proposes minimal risk as well. Although, the sources are well-known and risks seems minimal, without knowing exactly how the data was collected, we cannot claim that the data is unbiased. In fact, being completely unbiased is not necessarily achievable. Instead, we have outlined the possible biases below so that viewers are aware of potential biases as they view the analysiswe have performed.\n",
    "\n",
    "Our data is biased towards larger schools and schools that supply four year degrees. This is due to selection bias; we chose schools with populations that met a certain threshold and offered specific degrees. Our results do not account for those with less than 2000 students or trade schools. Thus, our conclusions cannot be held as accurate for any type of higher education. We also removed schools that had missing or withheld information, therefore closing in our sample to schools that were more well-known or more accessible.\n",
    "\n",
    "Thus, our analysis includes what we and the datasets we collected from deem as elite institutions or institutions that are more commmonly discussed. The exact characteristics of elite institutions in the U.S. is unclear and thus poses a limitation towards what schools this analysis can apply to.\n",
    "\n",
    "After analysis, our compiled data analysis is available to the public on github. All data used in this project is open source and does not include personal details of individuals. This it does not raise any ethical concerns. All analysis on the data is being done for educational purposes and to raise awareness. The project is not being used for personal gain; it is merely informative for the public.\n",
    "\n",
    "As specified above, the data and analysis is done only for institutions in the U.S. Other countries may be able to use our analysis as a template, however, the analysis cannot be applied to the state ofhigher education in other parts of the world.\n",
    "\n",
    "Our project does not specifically target any institutions and makes claim solely on the data. No outside information is excluded from the analysis provided.\n",
    "\n",
    "Our results do represent what certain types of institutions as more advantageous. We do not mean to hinder attendance at other schools. We simply want to inform those looking to see what different categories of institutions provide. For instance, our results show that California schools tend to be better in the long run. However, our results do not state nor imply that schools outside California are incapable of providing good futures for their attendees.\n"
   ]
  },
  {
   "cell_type": "markdown",
   "metadata": {},
   "source": [
    "# Conclusion & Discussion"
   ]
  },
  {
   "cell_type": "markdown",
   "metadata": {},
   "source": [
    "*Fill in your discussion information here*"
   ]
  }
 ],
 "metadata": {
  "kernelspec": {
   "display_name": "Python 3",
   "language": "python",
   "name": "python3"
  },
  "language_info": {
   "codemirror_mode": {
    "name": "ipython",
    "version": 3
   },
   "file_extension": ".py",
   "mimetype": "text/x-python",
   "name": "python",
   "nbconvert_exporter": "python",
   "pygments_lexer": "ipython3",
   "version": "3.6.7"
  }
 },
 "nbformat": 4,
 "nbformat_minor": 2
}
