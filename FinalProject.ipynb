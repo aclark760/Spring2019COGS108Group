{
 "cells": [
  {
   "cell_type": "markdown",
   "metadata": {},
   "source": [
    "# COGS 108 - Final Project "
   ]
  },
  {
   "cell_type": "markdown",
   "metadata": {},
   "source": [
    "# Overview"
   ]
  },
  {
   "cell_type": "markdown",
   "metadata": {},
   "source": [
    "*Fill in your overview here*\n",
    "\n"
   ]
  },
  {
   "cell_type": "markdown",
   "metadata": {},
   "source": [
    "# Names\n",
    "\n",
    "- Alisha Sehgal\n",
    "- Austin Clark\n",
    "- Peter Xu\n",
    "- Richard Du\n"
   ]
  },
  {
   "cell_type": "markdown",
   "metadata": {},
   "source": [
    "# Group Members IDs\n",
    "\n",
    "- A15592727\n",
    "- A91063616\n",
    "- A########\n",
    "- A########"
   ]
  },
  {
   "cell_type": "markdown",
   "metadata": {},
   "source": [
    "# Research Question"
   ]
  },
  {
   "cell_type": "markdown",
   "metadata": {},
   "source": [
    "Do the college degrees that cost more pay back proportionality more after after graduation and mid-career? Do the statistics on majors vary based on public or private schools? Lastly, does the region of the college affect the payout?\n",
    "\n",
    "The problem we are investigating is the cost increases of higher education and its relationship to the salaries from the obtained degrees. With the cost of obtaining a bachelor’s degree, is it really worth it to pursue a certain level of education? Also, are the majors that are usually viewed as those low-earning worth to pursue with a college degree? For the project, we try to answer the question of 1. What type/category of majors and degrees cost you the most, and 2. Do these combinations also make you more money in the long run compared to other less expensive majors/ degrees? 3. Does the school region and type of school have an effect on the starting and mid-career salaries of graduates?\n",
    "\n",
    "* we need to talk about the types of variables we will measure and how"
   ]
  },
  {
   "cell_type": "markdown",
   "metadata": {},
   "source": [
    "## Background and Prior Work"
   ]
  },
  {
   "cell_type": "markdown",
   "metadata": {},
   "source": [
    "There is a large difference between college completion of high and low income families and between completion of college for females and males. In the NBER working papers, college completion is measured by people who attain a bachelor’s degree by the time they are 25. Over the years, there has been an increase in the completion of college for females, but this increase is driven by the daughters of high income families, and does not account for females in low-income families. Between 1915 and 1983, college completion quadrupled. Again, most of this increase is accounted for by high-income families. This begs the question, is the price of college too high for the regular household?\n",
    "\n",
    "Upon looking at another article about the worth of college, our group found that debt for college has become a large sum that often hinders students from living out their dreams. In fact, between 2010 and 2011, half of all of the college graduates were unemployed or employed below their skill level. If college isn’t getting students closer to what they want, then is it worth it? The article clarifies that for certain majors such as engineering or medical majors, college is necessary. It also singles out certain colleges, like Stanford, as being more worth it than others. However, overall, the book states that college is not necessary if one does not have a clear reason for going. Most people can go to the library and learn for themselves what their $100 grand plus would get them in college. To support this claim, the author states that 84% of employers have rated college graduates as not fully prepared for the workforce and only a little bit more prepared than a high school graduate.\n",
    "\n",
    "College costs have been rising at a rate above the rate of inflation. They will continue to follow this trend and students will become more and more crippled by debt for the same education. Additionally, more students are being enrolled in universities, thus creating a more people competing for the same amount of resources scenario at nearly all public and state colleges. The large difference in lifetime earnings between those with and without college degrees is largely due to what those who graduate from the top 150 colleges earn. Students from the average college do not have a large difference between their lifetime earnings after subtracting debt when compared to a high school graduate with no debt.\n",
    "\n",
    "The value of education has always been a topic of discussion, but in recent years it has become more of a concern. Lots of data about such topics exist online. For example, Bureau of Labor Statistics, Kaggle, Payscale. Most people will complete a bachelor’s degree after 4 years of college. However, depending on which college you attend, the cost of a bachelor’s degree can vary significantly. By default, private universities cost more to attend compared to public universities, which may put more pressure on students to select the best major to make up for the cost. However, as noted in the analysis from College Earnings Premium & Value Proposition, if financial aid is included, the cost for attending private colleges becomes more comparable to the cost of public colleges.\n",
    "\n",
    "The type of major you select also can have a significant impact on your salary after you complete your degree. The analysis from the project Post-College Salaries Exploration in R, shows that STEM majors have an advantage when it comes to starting salaries and mid-career salaries. However, since we are looking at the proportional net gain from cost of attendance to salary, we cannot simply look at the top paying majors. Further analysis in the same project describes the growth in long-term salary for the various majors. In this case, engineering majors showed less growth compared to other majors such as economics, political science, finance, etc. While we do have to take into consideration the higher starting salary for engineering majors, the difference in growth potential suggests that non STEM majors may be worth considering when examining the net proportional gain after earning the degree.\n",
    "\n",
    "References:\n",
    "- 1) https://www.nber.org/papers/w17633chrome-extension://oemmndcbldboiebfnladdacbdfmadadm/https://www.nber.org/papers/w17633.pdf\n",
    "- 2) https://books.google.com/books?hl=en&lr=&id=AZ9aFGUH-t0C&oi=fnd&pg=PP2&dq=college+worth&ots=hzE60fcciL&sig=uuG_lMudxmeBP2BKrqljSCi9bzU#v=onepage&q=college%20worth&f=false\n",
    "- 3) https://www.kaggle.com/apollostar/college-earnings-premium-value-proposition\n",
    "- 4) https://www.kaggle.com/cbhyphen/post-college-salaries-exploration-in-r"
   ]
  },
  {
   "cell_type": "markdown",
   "metadata": {},
   "source": [
    "# Hypothesis\n"
   ]
  },
  {
   "cell_type": "markdown",
   "metadata": {},
   "source": [
    "*Fill in your hypotheses here*\n",
    "\n",
    "We expect that on average, degrees that require more time will have a better payoff in the long run due to the additional knowledge and skills gained from the additional education. However, there may be certain degrees, where having more industry experience will be better, and thus be proportionally more cost efficient.\n",
    "\n",
    "Additionally, we propose that the region of the school does affect the payout. Schools in certain regions are more primed for certain majors to prosper after graduation due to opportunity and resources.\n",
    "\n",
    "* Explain why you think this will be the outcome? (What was your thinking?)"
   ]
  },
  {
   "cell_type": "markdown",
   "metadata": {},
   "source": [
    "# Dataset(s)"
   ]
  },
  {
   "cell_type": "markdown",
   "metadata": {},
   "source": [
    "*Fill in your dataset information here*\n",
    "\n",
    "(Copy this information for each dataset)\n",
    "- Dataset Name:\n",
    "- Link to the dataset:\n",
    "- Number of observations:\n",
    "\n",
    "1-2 sentences describing each dataset. \n",
    "\n",
    "(Copy this information for each dataset)\n",
    "- Dataset Name:\n",
    "- Link to the dataset:\n",
    "- Number of observations:\n",
    "\n",
    "1-2 sentences describing each dataset. \n",
    "\n",
    "If you plan to use multiple datasets, add 1-2 sentences about how you plan to combine these datasets."
   ]
  },
  {
   "cell_type": "markdown",
   "metadata": {},
   "source": [
    "# Setup"
   ]
  },
  {
   "cell_type": "code",
   "execution_count": 1,
   "metadata": {},
   "outputs": [
    {
     "name": "stderr",
     "output_type": "stream",
     "text": [
      "/opt/conda/lib/python3.6/site-packages/statsmodels/compat/pandas.py:56: FutureWarning: The pandas.core.datetools module is deprecated and will be removed in a future version. Please use the pandas.tseries module instead.\n",
      "  from pandas.core import datetools\n"
     ]
    }
   ],
   "source": [
    "%matplotlib inline\n",
    "\n",
    "import numpy as np\n",
    "import pandas as pd\n",
    "import matplotlib.pyplot as plt\n",
    "\n",
    "import patsy\n",
    "import statsmodels.api as sm\n",
    "import scipy.stats as stats\n",
    "from scipy.stats import ttest_ind, chisquare, normaltest\n",
    "import seaborn as sns\n",
    "sns.set()\n",
    "sns.set_context('talk')\n",
    "from statsmodels.formula.api import ols"
   ]
  },
  {
   "cell_type": "markdown",
   "metadata": {},
   "source": [
    "# Data Cleaning"
   ]
  },
  {
   "cell_type": "markdown",
   "metadata": {},
   "source": [
    "First we want to import and clean the College Score Card 2014 Dataset"
   ]
  },
  {
   "cell_type": "code",
   "execution_count": 2,
   "metadata": {},
   "outputs": [
    {
     "ename": "FileNotFoundError",
     "evalue": "File b'MERGED2013_14_PP.csv' does not exist",
     "output_type": "error",
     "traceback": [
      "\u001b[0;31m---------------------------------------------------------------------------\u001b[0m",
      "\u001b[0;31mFileNotFoundError\u001b[0m                         Traceback (most recent call last)",
      "\u001b[0;32m<ipython-input-2-a32a75aed10d>\u001b[0m in \u001b[0;36m<module>\u001b[0;34m()\u001b[0m\n\u001b[0;32m----> 1\u001b[0;31m \u001b[0mdf\u001b[0m \u001b[0;34m=\u001b[0m \u001b[0mpd\u001b[0m\u001b[0;34m.\u001b[0m\u001b[0mread_csv\u001b[0m\u001b[0;34m(\u001b[0m\u001b[0;34m'MERGED2013_14_PP.csv'\u001b[0m\u001b[0;34m,\u001b[0m \u001b[0mdtype\u001b[0m \u001b[0;34m=\u001b[0m \u001b[0mstr\u001b[0m\u001b[0;34m)\u001b[0m\u001b[0;34m\u001b[0m\u001b[0;34m\u001b[0m\u001b[0m\n\u001b[0m",
      "\u001b[0;32m/opt/conda/lib/python3.6/site-packages/pandas/io/parsers.py\u001b[0m in \u001b[0;36mparser_f\u001b[0;34m(filepath_or_buffer, sep, delimiter, header, names, index_col, usecols, squeeze, prefix, mangle_dupe_cols, dtype, engine, converters, true_values, false_values, skipinitialspace, skiprows, nrows, na_values, keep_default_na, na_filter, verbose, skip_blank_lines, parse_dates, infer_datetime_format, keep_date_col, date_parser, dayfirst, iterator, chunksize, compression, thousands, decimal, lineterminator, quotechar, quoting, escapechar, comment, encoding, dialect, tupleize_cols, error_bad_lines, warn_bad_lines, skipfooter, doublequote, delim_whitespace, low_memory, memory_map, float_precision)\u001b[0m\n\u001b[1;32m    676\u001b[0m                     skip_blank_lines=skip_blank_lines)\n\u001b[1;32m    677\u001b[0m \u001b[0;34m\u001b[0m\u001b[0m\n\u001b[0;32m--> 678\u001b[0;31m         \u001b[0;32mreturn\u001b[0m \u001b[0m_read\u001b[0m\u001b[0;34m(\u001b[0m\u001b[0mfilepath_or_buffer\u001b[0m\u001b[0;34m,\u001b[0m \u001b[0mkwds\u001b[0m\u001b[0;34m)\u001b[0m\u001b[0;34m\u001b[0m\u001b[0;34m\u001b[0m\u001b[0m\n\u001b[0m\u001b[1;32m    679\u001b[0m \u001b[0;34m\u001b[0m\u001b[0m\n\u001b[1;32m    680\u001b[0m     \u001b[0mparser_f\u001b[0m\u001b[0;34m.\u001b[0m\u001b[0m__name__\u001b[0m \u001b[0;34m=\u001b[0m \u001b[0mname\u001b[0m\u001b[0;34m\u001b[0m\u001b[0;34m\u001b[0m\u001b[0m\n",
      "\u001b[0;32m/opt/conda/lib/python3.6/site-packages/pandas/io/parsers.py\u001b[0m in \u001b[0;36m_read\u001b[0;34m(filepath_or_buffer, kwds)\u001b[0m\n\u001b[1;32m    438\u001b[0m \u001b[0;34m\u001b[0m\u001b[0m\n\u001b[1;32m    439\u001b[0m     \u001b[0;31m# Create the parser.\u001b[0m\u001b[0;34m\u001b[0m\u001b[0;34m\u001b[0m\u001b[0;34m\u001b[0m\u001b[0m\n\u001b[0;32m--> 440\u001b[0;31m     \u001b[0mparser\u001b[0m \u001b[0;34m=\u001b[0m \u001b[0mTextFileReader\u001b[0m\u001b[0;34m(\u001b[0m\u001b[0mfilepath_or_buffer\u001b[0m\u001b[0;34m,\u001b[0m \u001b[0;34m**\u001b[0m\u001b[0mkwds\u001b[0m\u001b[0;34m)\u001b[0m\u001b[0;34m\u001b[0m\u001b[0;34m\u001b[0m\u001b[0m\n\u001b[0m\u001b[1;32m    441\u001b[0m \u001b[0;34m\u001b[0m\u001b[0m\n\u001b[1;32m    442\u001b[0m     \u001b[0;32mif\u001b[0m \u001b[0mchunksize\u001b[0m \u001b[0;32mor\u001b[0m \u001b[0miterator\u001b[0m\u001b[0;34m:\u001b[0m\u001b[0;34m\u001b[0m\u001b[0;34m\u001b[0m\u001b[0m\n",
      "\u001b[0;32m/opt/conda/lib/python3.6/site-packages/pandas/io/parsers.py\u001b[0m in \u001b[0;36m__init__\u001b[0;34m(self, f, engine, **kwds)\u001b[0m\n\u001b[1;32m    785\u001b[0m             \u001b[0mself\u001b[0m\u001b[0;34m.\u001b[0m\u001b[0moptions\u001b[0m\u001b[0;34m[\u001b[0m\u001b[0;34m'has_index_names'\u001b[0m\u001b[0;34m]\u001b[0m \u001b[0;34m=\u001b[0m \u001b[0mkwds\u001b[0m\u001b[0;34m[\u001b[0m\u001b[0;34m'has_index_names'\u001b[0m\u001b[0;34m]\u001b[0m\u001b[0;34m\u001b[0m\u001b[0;34m\u001b[0m\u001b[0m\n\u001b[1;32m    786\u001b[0m \u001b[0;34m\u001b[0m\u001b[0m\n\u001b[0;32m--> 787\u001b[0;31m         \u001b[0mself\u001b[0m\u001b[0;34m.\u001b[0m\u001b[0m_make_engine\u001b[0m\u001b[0;34m(\u001b[0m\u001b[0mself\u001b[0m\u001b[0;34m.\u001b[0m\u001b[0mengine\u001b[0m\u001b[0;34m)\u001b[0m\u001b[0;34m\u001b[0m\u001b[0;34m\u001b[0m\u001b[0m\n\u001b[0m\u001b[1;32m    788\u001b[0m \u001b[0;34m\u001b[0m\u001b[0m\n\u001b[1;32m    789\u001b[0m     \u001b[0;32mdef\u001b[0m \u001b[0mclose\u001b[0m\u001b[0;34m(\u001b[0m\u001b[0mself\u001b[0m\u001b[0;34m)\u001b[0m\u001b[0;34m:\u001b[0m\u001b[0;34m\u001b[0m\u001b[0;34m\u001b[0m\u001b[0m\n",
      "\u001b[0;32m/opt/conda/lib/python3.6/site-packages/pandas/io/parsers.py\u001b[0m in \u001b[0;36m_make_engine\u001b[0;34m(self, engine)\u001b[0m\n\u001b[1;32m   1012\u001b[0m     \u001b[0;32mdef\u001b[0m \u001b[0m_make_engine\u001b[0m\u001b[0;34m(\u001b[0m\u001b[0mself\u001b[0m\u001b[0;34m,\u001b[0m \u001b[0mengine\u001b[0m\u001b[0;34m=\u001b[0m\u001b[0;34m'c'\u001b[0m\u001b[0;34m)\u001b[0m\u001b[0;34m:\u001b[0m\u001b[0;34m\u001b[0m\u001b[0;34m\u001b[0m\u001b[0m\n\u001b[1;32m   1013\u001b[0m         \u001b[0;32mif\u001b[0m \u001b[0mengine\u001b[0m \u001b[0;34m==\u001b[0m \u001b[0;34m'c'\u001b[0m\u001b[0;34m:\u001b[0m\u001b[0;34m\u001b[0m\u001b[0;34m\u001b[0m\u001b[0m\n\u001b[0;32m-> 1014\u001b[0;31m             \u001b[0mself\u001b[0m\u001b[0;34m.\u001b[0m\u001b[0m_engine\u001b[0m \u001b[0;34m=\u001b[0m \u001b[0mCParserWrapper\u001b[0m\u001b[0;34m(\u001b[0m\u001b[0mself\u001b[0m\u001b[0;34m.\u001b[0m\u001b[0mf\u001b[0m\u001b[0;34m,\u001b[0m \u001b[0;34m**\u001b[0m\u001b[0mself\u001b[0m\u001b[0;34m.\u001b[0m\u001b[0moptions\u001b[0m\u001b[0;34m)\u001b[0m\u001b[0;34m\u001b[0m\u001b[0;34m\u001b[0m\u001b[0m\n\u001b[0m\u001b[1;32m   1015\u001b[0m         \u001b[0;32melse\u001b[0m\u001b[0;34m:\u001b[0m\u001b[0;34m\u001b[0m\u001b[0;34m\u001b[0m\u001b[0m\n\u001b[1;32m   1016\u001b[0m             \u001b[0;32mif\u001b[0m \u001b[0mengine\u001b[0m \u001b[0;34m==\u001b[0m \u001b[0;34m'python'\u001b[0m\u001b[0;34m:\u001b[0m\u001b[0;34m\u001b[0m\u001b[0;34m\u001b[0m\u001b[0m\n",
      "\u001b[0;32m/opt/conda/lib/python3.6/site-packages/pandas/io/parsers.py\u001b[0m in \u001b[0;36m__init__\u001b[0;34m(self, src, **kwds)\u001b[0m\n\u001b[1;32m   1706\u001b[0m         \u001b[0mkwds\u001b[0m\u001b[0;34m[\u001b[0m\u001b[0;34m'usecols'\u001b[0m\u001b[0;34m]\u001b[0m \u001b[0;34m=\u001b[0m \u001b[0mself\u001b[0m\u001b[0;34m.\u001b[0m\u001b[0musecols\u001b[0m\u001b[0;34m\u001b[0m\u001b[0;34m\u001b[0m\u001b[0m\n\u001b[1;32m   1707\u001b[0m \u001b[0;34m\u001b[0m\u001b[0m\n\u001b[0;32m-> 1708\u001b[0;31m         \u001b[0mself\u001b[0m\u001b[0;34m.\u001b[0m\u001b[0m_reader\u001b[0m \u001b[0;34m=\u001b[0m \u001b[0mparsers\u001b[0m\u001b[0;34m.\u001b[0m\u001b[0mTextReader\u001b[0m\u001b[0;34m(\u001b[0m\u001b[0msrc\u001b[0m\u001b[0;34m,\u001b[0m \u001b[0;34m**\u001b[0m\u001b[0mkwds\u001b[0m\u001b[0;34m)\u001b[0m\u001b[0;34m\u001b[0m\u001b[0;34m\u001b[0m\u001b[0m\n\u001b[0m\u001b[1;32m   1709\u001b[0m \u001b[0;34m\u001b[0m\u001b[0m\n\u001b[1;32m   1710\u001b[0m         \u001b[0mpassed_names\u001b[0m \u001b[0;34m=\u001b[0m \u001b[0mself\u001b[0m\u001b[0;34m.\u001b[0m\u001b[0mnames\u001b[0m \u001b[0;32mis\u001b[0m \u001b[0;32mNone\u001b[0m\u001b[0;34m\u001b[0m\u001b[0;34m\u001b[0m\u001b[0m\n",
      "\u001b[0;32mpandas/_libs/parsers.pyx\u001b[0m in \u001b[0;36mpandas._libs.parsers.TextReader.__cinit__\u001b[0;34m()\u001b[0m\n",
      "\u001b[0;32mpandas/_libs/parsers.pyx\u001b[0m in \u001b[0;36mpandas._libs.parsers.TextReader._setup_parser_source\u001b[0;34m()\u001b[0m\n",
      "\u001b[0;31mFileNotFoundError\u001b[0m: File b'MERGED2013_14_PP.csv' does not exist"
     ]
    }
   ],
   "source": [
    "df = pd.read_csv('MERGED2013_14_PP.csv', dtype = str)"
   ]
  },
  {
   "cell_type": "markdown",
   "metadata": {},
   "source": [
    "Note that this dataset is enormous and has over 1000 columns of variables so we need to select only the cells that we can use."
   ]
  },
  {
   "cell_type": "code",
   "execution_count": null,
   "metadata": {},
   "outputs": [],
   "source": [
    "# setting up columns we want to look at\n",
    "institution_name = 'INSTNM' #string\n",
    "undergraduate_enrollment = 'UGDS' #int\n",
    "state = 'STABBR' #string\n",
    "avg_cost_of_attendance_academic_institutions = 'COSTT4_A' #int\n",
    "#count_of_students_in_earnings_cohort = 'COUNT_ED' #int\n",
    "# wne = 'working not enrolled'\n",
    "count_of_students_wne_10y_after_entry = 'COUNT_WNE_P10' #int\n",
    "mean_earnings_of_students_wne_10y_after_entry = 'MN_EARN_WNE_P10' #int\n",
    "median_earnings_of_students_wne_10y_after_entry = 'MD_EARN_WNE_P10' #int\n",
    "stddev_earnings_of_students_wne_10y_after_entry = 'SD_EARN_WNE_P10' #int\n",
    "\n",
    "count_of_students_wne_6y_after_entry = 'COUNT_WNE_P6' #int\n",
    "mean_earnings_of_students_wne_6y_after_entry = 'MN_EARN_WNE_P6' #int\n",
    "median_earnings_of_students_wne_6y_after_entry = 'MD_EARN_WNE_P6' #int\n",
    "stddev_earnings_of_students_wne_6y_after_entry = 'SD_EARN_WNE_P6' #int\n",
    "\n",
    "median_debt_for_graduated_students = 'GRAD_DEBT_MDN' #float\n",
    "percent_degrees_in_engineering = 'PCIP15'\n",
    "\n",
    "relevantColumns = [institution_name,\n",
    "                   state,\n",
    "                   undergraduate_enrollment, \n",
    "                   avg_cost_of_attendance_academic_institutions, \n",
    "                  count_of_students_wne_10y_after_entry,\n",
    "                  mean_earnings_of_students_wne_10y_after_entry,\n",
    "                  median_earnings_of_students_wne_10y_after_entry,\n",
    "                  stddev_earnings_of_students_wne_10y_after_entry,\n",
    "                  count_of_students_wne_6y_after_entry,\n",
    "                  mean_earnings_of_students_wne_6y_after_entry,\n",
    "                  median_earnings_of_students_wne_6y_after_entry,\n",
    "                  stddev_earnings_of_students_wne_6y_after_entry,\n",
    "                  median_debt_for_graduated_students,\n",
    "                  percent_degrees_in_engineering]"
   ]
  },
  {
   "cell_type": "markdown",
   "metadata": {},
   "source": [
    "Now we have a manageable dataset with usefull information for the questions we are trying to answer."
   ]
  },
  {
   "cell_type": "markdown",
   "metadata": {},
   "source": [
    "When we started looking further into the dataset we see that this includes information for not only traditional colleges, but also information for trade schools and small institutions classified as higher learning. We removed the small schools and trade schools by removing all schools whose attendance was less than 2000 as well as removing the schools that had missing information. "
   ]
  },
  {
   "cell_type": "code",
   "execution_count": null,
   "metadata": {},
   "outputs": [],
   "source": [
    "# remove all other column data\n",
    "df = df.loc[:, df.columns.intersection(relevantColumns)]\n",
    "\n",
    "# remove specialized program institutions from the dataframe (they will have NaN for academic institution cost of attendance)\n",
    "#df = df.dropna(subset=[avg_cost_of_attendance_academic_institutions])\n",
    "\n",
    "# remove all rows that have null\n",
    "df = df.dropna(how='any')\n",
    "\n",
    "# update type for int columns\n",
    "for col in relevantColumns[2:-2]:\n",
    "    if(df[col].dtype == object):\n",
    "        # remove rows with 'PrivacySuppressed'\n",
    "        df = df[df[col]!='PrivacySuppressed']\n",
    "        df[col] = df[col].astype('int')\n",
    "\n",
    "# update type for float columns\n",
    "for col in relevantColumns[-2:]:\n",
    "    if(df[col].dtype == object):\n",
    "        # remove rows with 'PrivacySuppressed'\n",
    "        df = df[df[col]!='PrivacySuppressed']\n",
    "        df[col] = df[col].astype('float')\n",
    "\n",
    "# remove schools with less than 2000 undergraduate students enrolled\n",
    "df[undergraduate_enrollment] = df[undergraduate_enrollment].astype('int')\n",
    "df = df[df[undergraduate_enrollment] >= 2000]\n"
   ]
  },
  {
   "cell_type": "markdown",
   "metadata": {},
   "source": [
    "We are left with a dataset that has 1588 entries that we can make inferences from."
   ]
  },
  {
   "cell_type": "code",
   "execution_count": null,
   "metadata": {},
   "outputs": [],
   "source": [
    "df.head()"
   ]
  },
  {
   "cell_type": "markdown",
   "metadata": {},
   "source": [
    "Next we want to look at the dataset that has information on colleges based on college type and region."
   ]
  },
  {
   "cell_type": "code",
   "execution_count": null,
   "metadata": {},
   "outputs": [],
   "source": [
    "degrees_that_pay_back = pd.read_csv('degrees-that-pay-back.csv')\n",
    "salaries_by_college_type = pd.read_csv('salaries-by-college-type.csv')\n",
    "salaries_by_region = pd.read_csv ('salaries-by-region.csv')"
   ]
  },
  {
   "cell_type": "markdown",
   "metadata": {},
   "source": [
    "We want to merge these 3 datasets and drop the information we wont be using. Also, our data was entered as strings with special characters so we need to change that information to float integer."
   ]
  },
  {
   "cell_type": "code",
   "execution_count": null,
   "metadata": {},
   "outputs": [],
   "source": [
    "df_merge = pd.merge(salaries_by_college_type,salaries_by_region, on = 'School Name',how = 'left')\n",
    "df_merge.drop(['Starting Median Salary_y','Mid-Career Median Salary_y','Mid-Career 10th Percentile Salary_y',\n",
    "        'Mid-Career 25th Percentile Salary_y','Mid-Career 75th Percentile Salary_y',\n",
    "        'Mid-Career 90th Percentile Salary_y'],axis = 1,inplace = True) \n",
    "df_merge.columns = ['School_Name','School_Type','Starting_Median_Salary','Mid_Career_Median_Salary',\n",
    "             'Mid_Career_10th_Percentile_Salary','Mid_Career_25th_Percentile_Salary',\n",
    "             'Mid_Career_75th_Percentile_Salary','Mid_Career_90th_Percentile_Salary','Region']\n",
    "\n",
    "df_merge.drop(['Mid_Career_10th_Percentile_Salary','Mid_Career_90th_Percentile_Salary'],axis = 1, inplace = True)\n",
    "\n",
    "df_merge['Starting_Median_Salary']= df_merge['Starting_Median_Salary'].str.replace('$','')\n",
    "df_merge['Starting_Median_Salary']= df_merge['Starting_Median_Salary'].str.replace(',','')\n",
    "df_merge['Starting_Median_Salary']= df_merge['Starting_Median_Salary'].replace('.00','')\n",
    "df_merge['Starting_Median_Salary'] = df_merge['Starting_Median_Salary'].astype(float)\n",
    "\n",
    "df_merge['Mid_Career_Median_Salary']= df_merge['Mid_Career_Median_Salary'].str.replace('$','')\n",
    "df_merge['Mid_Career_Median_Salary']= df_merge['Mid_Career_Median_Salary'].str.replace(',','')\n",
    "df_merge['Mid_Career_Median_Salary']= df_merge['Mid_Career_Median_Salary'].replace('.00','')\n",
    "df_merge['Mid_Career_Median_Salary'] = df_merge['Mid_Career_Median_Salary'].astype(float)\n",
    "\n",
    "df_merge['Mid_Career_25th_Percentile_Salary'] = df_merge['Mid_Career_25th_Percentile_Salary'].str.replace('$','')\n",
    "df_merge['Mid_Career_25th_Percentile_Salary'] = df_merge['Mid_Career_25th_Percentile_Salary'].str.replace(',','')\n",
    "df_merge['Mid_Career_25th_Percentile_Salary'] = df_merge['Mid_Career_25th_Percentile_Salary'].replace('.00','')\n",
    "df_merge['Mid_Career_25th_Percentile_Salary'] = df_merge['Mid_Career_25th_Percentile_Salary'].astype(float)\n",
    "\n",
    "df_merge['Mid_Career_75th_Percentile_Salary'] = df_merge['Mid_Career_75th_Percentile_Salary'].str.replace('$','')\n",
    "df_merge['Mid_Career_75th_Percentile_Salary'] = df_merge['Mid_Career_75th_Percentile_Salary'].str.replace(',','')\n",
    "df_merge['Mid_Career_75th_Percentile_Salary'] = df_merge['Mid_Career_75th_Percentile_Salary'].replace('.00','')\n",
    "df_merge['Mid_Career_75th_Percentile_Salary'] = df_merge['Mid_Career_75th_Percentile_Salary'].astype(float)"
   ]
  },
  {
   "cell_type": "code",
   "execution_count": null,
   "metadata": {},
   "outputs": [],
   "source": [
    "df_merge.head()"
   ]
  },
  {
   "cell_type": "markdown",
   "metadata": {},
   "source": [
    "# Data Analysis & Results"
   ]
  },
  {
   "cell_type": "markdown",
   "metadata": {},
   "source": [
    "Include cells that describe the steps in your data analysis."
   ]
  },
  {
   "cell_type": "code",
   "execution_count": null,
   "metadata": {},
   "outputs": [],
   "source": [
    "abc"
   ]
  },
  {
   "cell_type": "markdown",
   "metadata": {},
   "source": [
    "# Ethics & Privacy"
   ]
  },
  {
   "cell_type": "markdown",
   "metadata": {},
   "source": [
    "The costs of schooling have been rising recently and we want people to be the most informed as to whether the cost of schooling is worth the money based on the expected payoff of their chosen major. We do not intend to discourage people from attending college or pursuing their passions and if our data ends up showing that certain areas or degrees are not profitable we hope that it does not have a large impact on the people who chose that area of study.\n",
    "\n",
    "Throughout the collection of data, we hoped to show exactly how prices of colleges have risen and how the salaries out of college compare to the increase of cost for attendance. Is it ethical for colleges to continue charging students this much especially if they do not proportionally increase their resources to match the increase in students attending? If they are taking in more resources and money per student, where is the extra money going, if not towards the students?\n",
    "\n",
    "We obtained our data from different datasets. Our primary dataset is the U.S. Department of Education College Scorecard Database. This source is widely known and regulated and thus proposes minimal risks in terms of bias. Our other dataset is from the Wall Street Journal which proposes minimal risk as well. Although, the sources are well-known and risks seems minimal, without knowing exactly how the data was collected, we cannot claim that the data is unbiased. In fact, being completely unbiased is not necessarily achievable. Instead, we have outlined the possible biases below so that viewers are aware of potential biases as they view the analysiswe have performed. \n",
    "\n",
    "Our data is biased towards larger schools and schools that supply four year degrees. This is due to selection bias; we chose schools with populations that met a certain threshold and offered specific degrees. Our results do not account for those with less than 2000 students or trade schools. Thus, our conclusions cannot be held as accurate for any type of higher education. We also removed schools that had missing or withheld information, therefore closing in our sample to schools that were more well-known or more accessible.\n",
    "\n",
    "Thus, our analysis includes what we and the datasets we collected from deem as elite institutions or institutions that are more commmonly discussed. The exact characteristics of elite institutions in the U.S. is unclear and thus poses a limitation towards what schools this analysis can apply to.\n",
    "\n",
    "After analysis, our compiled data analysis is available to the public on github. All data used in this project is open source and does not include personal details of individuals. This it does not raise any ethical concerns. All analysis on the data is being done for educational purposes and to raise awareness. The project is not being used for personal gain; it is merely informative for the public. \n",
    "\n",
    "As specified above, the data and analysis is done only for institutions in the U.S. Other countries may be able to use our analysis as a template, however, the analysis cannot be applied to the state ofhigher education in other parts of the world.\n",
    "\n",
    "Our project does not specifically target any institutions and makes claim solely on the data. No outside information is excluded from the analysis provided.\n",
    "\n",
    "Our results do represent what certain types of institutions as more advantageous. We do not mean to hinder attendance at other schools. We simply want to inform those looking to see what different categories of institutions provide. For instance, our results show that California schools tend to be better in the long run. However, our results do not state nor imply that schools outside California are incapable of providing good futures for their attendees."
   ]
  },
  {
   "cell_type": "markdown",
   "metadata": {},
   "source": [
    "# Conclusion & Discussion"
   ]
  },
  {
   "cell_type": "markdown",
   "metadata": {},
   "source": [
    "*Fill in your discussion information here*"
   ]
  }
 ],
 "metadata": {
  "kernelspec": {
   "display_name": "Python 3",
   "language": "python",
   "name": "python3"
  },
  "language_info": {
   "codemirror_mode": {
    "name": "ipython",
    "version": 3
   },
   "file_extension": ".py",
   "mimetype": "text/x-python",
   "name": "python",
   "nbconvert_exporter": "python",
   "pygments_lexer": "ipython3",
   "version": "3.6.7"
  }
 },
 "nbformat": 4,
 "nbformat_minor": 2
}
