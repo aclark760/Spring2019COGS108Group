{
 "cells": [
  {
   "cell_type": "markdown",
   "metadata": {},
   "source": [
    "# COGS 108 - Final Project "
   ]
  },
  {
   "cell_type": "markdown",
   "metadata": {},
   "source": [
    "# Overview"
   ]
  },
  {
   "cell_type": "markdown",
   "metadata": {},
   "source": [
    "*Fill in your overview here*\n",
    "\n"
   ]
  },
  {
   "cell_type": "markdown",
   "metadata": {},
   "source": [
    "# Names\n",
    "\n",
    "- Alisha Sehgal\n",
    "- Austin Clark\n",
    "- Peter Xu\n",
    "- Richard Du\n"
   ]
  },
  {
   "cell_type": "markdown",
   "metadata": {},
   "source": [
    "# Group Members IDs\n",
    "\n",
    "- A15592727\n",
    "- A91063616\n",
    "- A15206122\n",
    "- A92152605"
   ]
  },
  {
   "cell_type": "markdown",
   "metadata": {},
   "source": [
    "# Research Question"
   ]
  },
  {
   "cell_type": "markdown",
   "metadata": {},
   "source": [
    "What types of institutions pay back more after after graduation and mid-career? Do the statistics institution vary based on public or private schools? Lastly, does the region of the college affect the payout?\n",
    "\n",
    "The problem we are investigating is the cost increases of higher education and its relationship to the salaries from the obtained degrees. With the cost of obtaining a bachelor’s degree, is it really worth it to pursue a certain level of education? Also, are the majors, or in our case groups of types of majors (later referred to as school type), that are usually viewed as those low-earning worth to pursue with a college degree? For the project, we try to answer the question of 1. What type/category of degrees at schools cost you the most, and 2. Do these combinations also make you more money in the long run compared to other less expensive bachelor degrees? 3. Does the school region and type of school have an effect on the starting and mid-career salaries of graduates?"
   ]
  },
  {
   "cell_type": "markdown",
   "metadata": {},
   "source": [
    "## Background and Prior Work"
   ]
  },
  {
   "cell_type": "markdown",
   "metadata": {},
   "source": [
    "There is a large difference between college completion of high and low income families and between completion of college for females and males. In the NBER working papers, college completion is measured by people who attain a bachelor’s degree by the time they are 25. Over the years, there has been an increase in the completion of college for females, but this increase is driven by the daughters of high income families, and does not account for females in low-income families. Between 1915 and 1983, college completion quadrupled. Again, most of this increase is accounted for by high-income families. This begs the question, is the price of college too high for the regular household?\n",
    "\n",
    "Upon looking at another article about the worth of college, our group found that debt for college has become a large sum that often hinders students from living out their dreams. In fact, between 2010 and 2011, half of all of the college graduates were unemployed or employed below their skill level. If college isn’t getting students closer to what they want, then is it worth it? The article clarifies that for certain majors such as engineering or medical majors, college is necessary. It also singles out certain colleges, like Stanford, as being more worth it than others. However, overall, the book states that college is not necessary if one does not have a clear reason for going. Most people can go to the library and learn for themselves what their $100 grand plus would get them in college. To support this claim, the author states that 84% of employers have rated college graduates as not fully prepared for the workforce and only a little bit more prepared than a high school graduate.\n",
    "\n",
    "College costs have been rising at a rate above the rate of inflation. They will continue to follow this trend and students will become more and more crippled by debt for the same education. Additionally, more students are being enrolled in universities, thus creating a more people competing for the same amount of resources scenario at nearly all public and state colleges. The large difference in lifetime earnings between those with and without college degrees is largely due to what those who graduate from the top 150 colleges earn. Students from the average college do not have a large difference between their lifetime earnings after subtracting debt when compared to a high school graduate with no debt.\n",
    "\n",
    "The value of education has always been a topic of discussion, but in recent years it has become more of a concern. Lots of data about such topics exist online. For example, Bureau of Labor Statistics, Kaggle, Payscale. Most people will complete a bachelor’s degree after 4 years of college. However, depending on which college you attend, the cost of a bachelor’s degree can vary significantly. By default, private universities cost more to attend compared to public universities, which may put more pressure on students to select the best major to make up for the cost. However, as noted in the analysis from College Earnings Premium & Value Proposition, if financial aid is included, the cost for attending private colleges becomes more comparable to the cost of public colleges.\n",
    "\n",
    "The type of major you select also can have a significant impact on your salary after you complete your degree. The analysis from the project Post-College Salaries Exploration in R, shows that STEM majors have an advantage when it comes to starting salaries and mid-career salaries. However, since we are looking at the proportional net gain from cost of attendance to salary, we cannot simply look at the top paying majors. Further analysis in the same project describes the growth in long-term salary for the various majors. In this case, engineering majors showed less growth compared to other majors such as economics, political science, finance, etc. While we do have to take into consideration the higher starting salary for engineering majors, the difference in growth potential suggests that non STEM majors may be worth considering when examining the net proportional gain after earning the degree.\n",
    "\n",
    "References:\n",
    "\n",
    "1) https://www.nber.org/papers/w17633chrome-extension://oemmndcbldboiebfnladdacbdfmadadm/https://www.nber.org/papers/w17633.pdf\n",
    "2) https://books.google.com/books?hl=en&lr=&id=AZ9aFGUH-t0C&oi=fnd&pg=PP2&dq=college+worth&ots=hzE60fcciL&sig=uuG_lMudxmeBP2BKrqljSCi9bzU#v=onepage&q=college%20worth&f=false\n",
    "3) https://www.kaggle.com/apollostar/college-earnings-premium-value-proposition\n",
    "4) https://www.kaggle.com/cbhyphen/post-college-salaries-exploration-in-r"
   ]
  },
  {
   "cell_type": "markdown",
   "metadata": {},
   "source": [
    "# Hypothesis\n"
   ]
  },
  {
   "cell_type": "markdown",
   "metadata": {},
   "source": [
    "We expect that on average, engineering degrees will have a better payoff in the long run due to the strict knowledge and skills gained in school that cannot be learned out of an institution. However, there may be certain degrees, where having more industry experience will be better, and thus be proportionally more cost efficient. \n",
    "\n",
    "We think that Ivy league school and engineering schools will have the best rate of percent salary growth outside of college.\n",
    "\n",
    "Additionally, we propose that the region of the school does affect the payout. Schools in certain regions are more primed for certain types of majors (i.e. engineering or liberal arts) to prosper after graduation due to opportunity and resources."
   ]
  },
  {
   "cell_type": "markdown",
   "metadata": {},
   "source": [
    "# Dataset(s)"
   ]
  },
  {
   "cell_type": "markdown",
   "metadata": {},
   "source": [
    "*Fill in your dataset information here*\n",
    "\n",
    "- Dataset Name: College Scorecard\n",
    "- Link to the dataset: https://collegescorecard.ed.gov/data/\n",
    "- Number of observations: 7804 (for the 2013-2014 data set)\n",
    "\n",
    "This dataset is from the US Department of Education and it matches information from student financial aid with federal tax returns. This dataset was created with the intention of providing some insight into the difference in rankings of Universities. \n",
    "There are over 6000 observations in this dataset which records the university a student attended with information on how much the average student makes and how expensive the schooling was. \n",
    "\n",
    "(Copy this information for each dataset)\n",
    "- Dataset Name: Where it Pays to Attend College--Salaries by college, region, and academic major\n",
    "- Link to the dataset: https://www.kaggle.com/wsj/college-salaries\n",
    "- Number of observations: 269,320 (for the 2 files used in the project)\n",
    "\n",
    "This dataset is from Kaggle, but the original was from The Wall Street Journal.The dataset has 269 and 320 observations for the two files we used for the project, providing information of salaries by school types and regions. The two files are merged to provide all relevant information in one dataframe.\n",
    "\n",
    "If you plan to use multiple datasets, add 1-2 sentences about how you plan to combine these datasets."
   ]
  },
  {
   "cell_type": "markdown",
   "metadata": {},
   "source": [
    "# Setup"
   ]
  },
  {
   "cell_type": "code",
   "execution_count": null,
   "metadata": {},
   "outputs": [],
   "source": [
    "%matplotlib inline\n",
    "\n",
    "import numpy as np\n",
    "import pandas as pd\n",
    "import matplotlib.pyplot as plt\n",
    "\n",
    "import patsy\n",
    "import statsmodels.api as sm\n",
    "import scipy.stats as stats\n",
    "from scipy.stats import ttest_ind, chisquare, normaltest\n",
    "import seaborn as sns\n",
    "sns.set()\n",
    "sns.set_context('talk')\n",
    "from statsmodels.formula.api import ols"
   ]
  },
  {
   "cell_type": "markdown",
   "metadata": {},
   "source": [
    "# Data Cleaning"
   ]
  },
  {
   "cell_type": "markdown",
   "metadata": {},
   "source": [
    "First we want to import and clean the College Score Card 2014 Dataset"
   ]
  },
  {
   "cell_type": "code",
   "execution_count": null,
   "metadata": {},
   "outputs": [],
   "source": [
    "df = pd.read_csv('MERGED2013_14_PP.csv', dtype = str)"
   ]
  },
  {
   "cell_type": "markdown",
   "metadata": {},
   "source": [
    "Note that this dataset is enormous and has over 1000 columns of variables so we need to select only the cells that we can use."
   ]
  },
  {
   "cell_type": "code",
   "execution_count": null,
   "metadata": {},
   "outputs": [],
   "source": [
    "# setting up columns we want to look at\n",
    "institution_name = 'INSTNM' #string\n",
    "state = 'STABBR' #string\n",
    "undergraduate_enrollment = 'UGDS' #int\n",
    "avg_cost_of_attendance_academic_institutions = 'COSTT4_A' #int\n",
    "\n",
    "# ownership specifies if college is private or public; key: 1 = public, 2 = private nonprofit, 3 = private for profit\n",
    "ownership = \"CONTROL\" #int\n",
    "\n",
    "# wne = 'working not enrolled'\n",
    "count_of_students_wne_10y_after_entry = 'COUNT_WNE_P10' #int\n",
    "mean_earnings_of_students_wne_10y_after_entry = 'MN_EARN_WNE_P10' #int\n",
    "median_earnings_of_students_wne_10y_after_entry = 'MD_EARN_WNE_P10' #int\n",
    "stddev_earnings_of_students_wne_10y_after_entry = 'SD_EARN_WNE_P10' #int\n",
    "\n",
    "count_of_students_wne_6y_after_entry = 'COUNT_WNE_P6' #int\n",
    "mean_earnings_of_students_wne_6y_after_entry = 'MN_EARN_WNE_P6' #int\n",
    "median_earnings_of_students_wne_6y_after_entry = 'MD_EARN_WNE_P6' #int\n",
    "stddev_earnings_of_students_wne_6y_after_entry = 'SD_EARN_WNE_P6' #int\n",
    "\n",
    "median_debt_for_graduated_students = 'GRAD_DEBT_MDN' #float\n",
    "\n",
    "relevantColumns = [institution_name,\n",
    "                   state,\n",
    "                   ownership, \n",
    "                   undergraduate_enrollment, \n",
    "                   avg_cost_of_attendance_academic_institutions, \n",
    "                  count_of_students_wne_10y_after_entry,\n",
    "                  mean_earnings_of_students_wne_10y_after_entry,\n",
    "                  median_earnings_of_students_wne_10y_after_entry,\n",
    "                  stddev_earnings_of_students_wne_10y_after_entry,\n",
    "                  count_of_students_wne_6y_after_entry,\n",
    "                  mean_earnings_of_students_wne_6y_after_entry,\n",
    "                  median_earnings_of_students_wne_6y_after_entry,\n",
    "                  stddev_earnings_of_students_wne_6y_after_entry,\n",
    "                  median_debt_for_graduated_students,\n",
    "                  percent_degrees_in_engineering]\n"
   ]
  },
  {
   "cell_type": "markdown",
   "metadata": {},
   "source": [
    "Now we have a manageable dataset with usefull information for the questions we are trying to answer."
   ]
  },
  {
   "cell_type": "markdown",
   "metadata": {},
   "source": [
    "When we started looking further into the dataset we see that this includes information for not only traditional colleges, but also information for trade schools and small institutions classified as higher learning. We removed the small schools and trade schools by removing all schools whose attendance was less than 2000 as well as removing the schools that had missing information. "
   ]
  },
  {
   "cell_type": "code",
   "execution_count": null,
   "metadata": {},
   "outputs": [],
   "source": [
    "# remove all other column data\n",
    "df = df.loc[:, df.columns.intersection(relevantColumns)]\n",
    "\n",
    "# remove specialized program institutions from the dataframe (they will have NaN for academic institution cost of attendance)\n",
    "#df = df.dropna(subset=[avg_cost_of_attendance_academic_institutions])\n",
    "\n",
    "# remove all rows that have null\n",
    "df = df.dropna(how='any')\n",
    "\n",
    "# update type for int columns\n",
    "for col in relevantColumns[2:-2]:\n",
    "    if(df[col].dtype == object):\n",
    "        # remove rows with 'PrivacySuppressed'\n",
    "        df = df[df[col]!='PrivacySuppressed']\n",
    "        df[col] = df[col].astype('int')\n",
    "\n",
    "# update type for float columns\n",
    "for col in relevantColumns[-2:]:\n",
    "    if(df[col].dtype == object):\n",
    "        # remove rows with 'PrivacySuppressed'\n",
    "        df = df[df[col]!='PrivacySuppressed']\n",
    "        df[col] = df[col].astype('float')\n",
    "\n",
    "# remove schools with less than 2000 undergraduate students enrolled\n",
    "df[undergraduate_enrollment] = df[undergraduate_enrollment].astype('int')\n",
    "df = df[df[undergraduate_enrollment] >= 2000]\n"
   ]
  },
  {
   "cell_type": "markdown",
   "metadata": {},
   "source": [
    "We are left with a dataset that has 1588 entries that we can make inferences from."
   ]
  },
  {
   "cell_type": "code",
   "execution_count": null,
   "metadata": {},
   "outputs": [],
   "source": [
    "df.head()"
   ]
  },
  {
   "cell_type": "markdown",
   "metadata": {},
   "source": [
    "### to do -- add analysis for college scorecard data -start section"
   ]
  },
  {
   "cell_type": "code",
   "execution_count": null,
   "metadata": {},
   "outputs": [],
   "source": [
    "fig, axes = plt.subplots(nrows=2, ncols=2, figsize=(25,15))\n",
    "ax = df.plot.scatter(x=avg_cost_of_attendance_academic_institutions,y=mean_earnings_of_students_wne_10y_after_entry, ax=axes[0,0])\n",
    "ax.set_xlabel('Cost for Attendance')\n",
    "ax.set_ylabel('Mean earnings of students')\n",
    "ax = df.plot.scatter(x=avg_cost_of_attendance_academic_institutions,y=median_earnings_of_students_wne_10y_after_entry, ax=axes[0,1])\n",
    "ax.set_xlabel('Cost for Attendance')\n",
    "ax.set_ylabel('Median earnings of students')\n",
    "\n",
    "ax = df.plot.scatter(x=avg_cost_of_attendance_academic_institutions,y=mean_earnings_of_students_wne_6y_after_entry, ax=axes[1,0])\n",
    "ax.set_xlabel('Cost for Attendance')\n",
    "ax.set_ylabel('Mean earnings of students')\n",
    "ax = df.plot.scatter(x=avg_cost_of_attendance_academic_institutions,y=median_earnings_of_students_wne_6y_after_entry, ax=axes[1,1])\n",
    "ax.set_xlabel('Cost for Attendance')\n",
    "ax.set_ylabel('Median earnings of students')\n",
    "\n",
    "# Add plot title for the entire subplot row\n",
    "fig.text(0.5, 0.90, 'Student earnings data 10 years after entering college', ha='center', va='center', fontsize=20)\n",
    "fig.text(0.5, 0.49, 'Student earnings data 6 years after entering college', ha='center', va='center', fontsize=20)\n",
    "\n",
    "f1 = plt.gcf()"
   ]
  },
  {
   "cell_type": "code",
   "execution_count": null,
   "metadata": {},
   "outputs": [],
   "source": [
    "public_institutions = df[df[ownership] == 1]\n",
    "private_institutions = df[df[ownership] != 1]\n",
    "mean_public_10y = public_institutions[mean_earnings_of_students_wne_10y_after_entry].mean()\n",
    "mean_private_10y = private_institutions[mean_earnings_of_students_wne_10y_after_entry].mean()\n",
    "\n",
    "mean_public_6y = public_institutions[mean_earnings_of_students_wne_6y_after_entry].mean()\n",
    "mean_private_6y = private_institutions[mean_earnings_of_students_wne_6y_after_entry].mean()\n",
    "\n",
    "print(ttest_ind(public_institutions[mean_earnings_of_students_wne_10y_after_entry], private_institutions[mean_earnings_of_students_wne_10y_after_entry]))\n",
    "print(ttest_ind(public_institutions[mean_earnings_of_students_wne_6y_after_entry], private_institutions[mean_earnings_of_students_wne_6y_after_entry] ))"
   ]
  },
  {
   "cell_type": "code",
   "execution_count": null,
   "metadata": {},
   "outputs": [],
   "source": [
    "print('meanpublic_10y:',mean_public_10y)\n",
    "print('meanprivate_10y:',mean_private_10y)\n",
    "\n",
    "print('meanpublic_6y:',mean_public_6y)\n",
    "print('meanprivate_6y:',mean_private_6y)\n"
   ]
  },
  {
   "cell_type": "code",
   "execution_count": null,
   "metadata": {},
   "outputs": [],
   "source": [
    "fig, axes = plt.subplots(nrows=2, ncols=2, figsize=(25,15))\n",
    "ax = public_institutions.plot.scatter(x=avg_cost_of_attendance_academic_institutions,y=mean_earnings_of_students_wne_10y_after_entry, ax=axes[0,0])\n",
    "ax.set_xlabel('Cost for Attendance')\n",
    "ax.set_ylabel('Mean earnings of students')\n",
    "ax = public_institutions.plot.scatter(x=avg_cost_of_attendance_academic_institutions,y=median_earnings_of_students_wne_10y_after_entry, ax=axes[0,1])\n",
    "ax.set_xlabel('Cost for Attendance')\n",
    "ax.set_ylabel('Median earnings of students')\n",
    "\n",
    "ax = private_institutions.plot.scatter(x=avg_cost_of_attendance_academic_institutions,y=mean_earnings_of_students_wne_10y_after_entry, ax=axes[1,0])\n",
    "ax.set_xlabel('Cost for Attendance')\n",
    "ax.set_ylabel('Mean earnings of students')\n",
    "ax = private_institutions.plot.scatter(x=avg_cost_of_attendance_academic_institutions,y=median_earnings_of_students_wne_10y_after_entry, ax=axes[1,1])\n",
    "ax.set_xlabel('Cost for Attendance')\n",
    "ax.set_ylabel('Median earnings of students')\n",
    "\n",
    "# Add plot title for the entire subplot row\n",
    "fig.text(0.5, 0.90, 'Student earnings data for public institutions', ha='center', va='center', fontsize=20)\n",
    "fig.text(0.5, 0.49, 'Student earnings data for private institutions', ha='center', va='center', fontsize=20)\n",
    "\n",
    "f2 = plt.gcf()"
   ]
  },
  {
   "cell_type": "code",
   "execution_count": null,
   "metadata": {},
   "outputs": [],
   "source": [
    "md_earning6 = df['MD_EARN_WNE_P6'].mean()\n",
    "avg_earning6 = df['MN_EARN_WNE_P6'].mean()\n",
    "avg_cost = df['COSTT4_A'].mean()\n",
    "\n",
    "cost_leaving = 4*avg_cost\n",
    "md_dbt_leaving = df['GRAD_DEBT_MDN'].mean()\n",
    "#Plotting with interest\n",
    "y = [0]*8\n",
    "y[0]= md_dbt_leaving\n",
    "for i in range(1,8):\n",
    "    y[i]= y[i-1]*(1.055)-.10*(md_earning6)\n",
    "    \n",
    "\n",
    "#without interest the years to recoup investement\n",
    "yrs_in= cost_leaving/md_earning6\n",
    "#This is about 3\n"
   ]
  },
  {
   "cell_type": "code",
   "execution_count": null,
   "metadata": {},
   "outputs": [],
   "source": [
    "yf = pd.DataFrame(y)\n",
    "yf.plot(title= 'Debt after college paying 10% salary a year')\n",
    "plt.xlabel('Years after graduation')\n",
    "plt.ylabel('Debt in Dollars')"
   ]
  },
  {
   "cell_type": "code",
   "execution_count": null,
   "metadata": {},
   "outputs": [],
   "source": [
    "sns.set(rc={'figure.figsize':(19,9)})\n",
    "sns.violinplot(x= df[\"STABBR\"],y=df[\"MN_EARN_WNE_P6\"])"
   ]
  },
  {
   "cell_type": "markdown",
   "metadata": {},
   "source": [
    "### to do -- add analysis for college scorecard data - end section"
   ]
  },
  {
   "cell_type": "markdown",
   "metadata": {},
   "source": [
    "Next we want to look at the dataset that has information on colleges based on college type and region."
   ]
  },
  {
   "cell_type": "code",
   "execution_count": null,
   "metadata": {},
   "outputs": [],
   "source": [
    "salaries_by_college_type = pd.read_csv('salaries-by-college-type.csv')\n",
    "salaries_by_region = pd.read_csv ('salaries-by-region.csv')"
   ]
  },
  {
   "cell_type": "markdown",
   "metadata": {},
   "source": [
    "We want to merge these 3 datasets and drop the information we wont be using. Also, our data was entered as strings with special characters so we need to change that information to float integer."
   ]
  },
  {
   "cell_type": "code",
   "execution_count": null,
   "metadata": {},
   "outputs": [],
   "source": [
    "df_merge = pd.merge(salaries_by_college_type,salaries_by_region, on = 'School Name',how = 'left')\n",
    "df_merge.drop(['Starting Median Salary_y','Mid-Career Median Salary_y','Mid-Career 10th Percentile Salary_y',\n",
    "        'Mid-Career 25th Percentile Salary_y','Mid-Career 75th Percentile Salary_y',\n",
    "        'Mid-Career 90th Percentile Salary_y'],axis = 1,inplace = True) \n",
    "df_merge.columns = ['School_Name','School_Type','Starting_Median_Salary','Mid_Career_Median_Salary',\n",
    "             'Mid_Career_10th_Percentile_Salary','Mid_Career_25th_Percentile_Salary',\n",
    "             'Mid_Career_75th_Percentile_Salary','Mid_Career_90th_Percentile_Salary','Region']\n",
    "\n",
    "df_merge.drop(['Mid_Career_10th_Percentile_Salary','Mid_Career_90th_Percentile_Salary'],axis = 1, inplace = True)\n",
    "\n",
    "df_merge['Starting_Median_Salary']= df_merge['Starting_Median_Salary'].str.replace('$','')\n",
    "df_merge['Starting_Median_Salary']= df_merge['Starting_Median_Salary'].str.replace(',','')\n",
    "df_merge['Starting_Median_Salary']= df_merge['Starting_Median_Salary'].replace('.00','')\n",
    "df_merge['Starting_Median_Salary'] = df_merge['Starting_Median_Salary'].astype(float)\n",
    "\n",
    "df_merge['Mid_Career_Median_Salary']= df_merge['Mid_Career_Median_Salary'].str.replace('$','')\n",
    "df_merge['Mid_Career_Median_Salary']= df_merge['Mid_Career_Median_Salary'].str.replace(',','')\n",
    "df_merge['Mid_Career_Median_Salary']= df_merge['Mid_Career_Median_Salary'].replace('.00','')\n",
    "df_merge['Mid_Career_Median_Salary'] = df_merge['Mid_Career_Median_Salary'].astype(float)\n",
    "\n",
    "df_merge['Mid_Career_25th_Percentile_Salary'] = df_merge['Mid_Career_25th_Percentile_Salary'].str.replace('$','')\n",
    "df_merge['Mid_Career_25th_Percentile_Salary'] = df_merge['Mid_Career_25th_Percentile_Salary'].str.replace(',','')\n",
    "df_merge['Mid_Career_25th_Percentile_Salary'] = df_merge['Mid_Career_25th_Percentile_Salary'].replace('.00','')\n",
    "df_merge['Mid_Career_25th_Percentile_Salary'] = df_merge['Mid_Career_25th_Percentile_Salary'].astype(float)\n",
    "\n",
    "df_merge['Mid_Career_75th_Percentile_Salary'] = df_merge['Mid_Career_75th_Percentile_Salary'].str.replace('$','')\n",
    "df_merge['Mid_Career_75th_Percentile_Salary'] = df_merge['Mid_Career_75th_Percentile_Salary'].str.replace(',','')\n",
    "df_merge['Mid_Career_75th_Percentile_Salary'] = df_merge['Mid_Career_75th_Percentile_Salary'].replace('.00','')\n",
    "df_merge['Mid_Career_75th_Percentile_Salary'] = df_merge['Mid_Career_75th_Percentile_Salary'].astype(float)"
   ]
  },
  {
   "cell_type": "code",
   "execution_count": null,
   "metadata": {},
   "outputs": [],
   "source": [
    "df_merge.head()"
   ]
  },
  {
   "cell_type": "markdown",
   "metadata": {},
   "source": [
    "# Data Analysis & Results"
   ]
  },
  {
   "cell_type": "markdown",
   "metadata": {},
   "source": [
    "Include cells that describe the steps in your data analysis."
   ]
  },
  {
   "cell_type": "markdown",
   "metadata": {},
   "source": [
    "  We will start by looking at the merged data about college type and region."
   ]
  },
  {
   "cell_type": "markdown",
   "metadata": {},
   "source": [
    "We were curious as to the difference in the median starting and mid career salaries for graduates of the different categories for schools. Intuitively we assume that Ivy League and Engineering schools are going to have a higher payoff but we need to see if our data supports that.\n",
    "\n",
    "We print out the means for different school types, and select the avergae for starting median and mid career median.\n",
    "Then we construct a dataframe and input the two values for each school type into it."
   ]
  },
  {
   "cell_type": "code",
   "execution_count": null,
   "metadata": {},
   "outputs": [],
   "source": [
    "print(df_merge.loc[df_merge['School_Type']==\"Engineering\"].mean())\n",
    "print(df_merge.loc[df_merge['School_Type']==\"Party\"].mean())\n",
    "print(df_merge.loc[df_merge['School_Type']==\"Liberal Arts\"].mean())\n",
    "print(df_merge.loc[df_merge['School_Type']==\"Ivy League\"].mean())\n",
    "print(df_merge.loc[df_merge['School_Type']==\"State\"].mean())"
   ]
  },
  {
   "cell_type": "code",
   "execution_count": null,
   "metadata": {},
   "outputs": [],
   "source": [
    "salary = {'1':[\"Engineering\",59057.894737,103842.105263],'2':[\"Party\",45715.0,84685.0],\n",
    "          '3':[\"Liberal Arts\",45746.808511,89378.723404],'4':[\"Ivy\",60475.0,120125.0],\n",
    "          '5':[\"State\",44126.285714,78567.428571]}\n",
    "Salary = pd.DataFrame.from_dict(salary,orient = 'index',columns=['School_Type','Avg_starting_median',\n",
    "                                                                 'Avg_mid_career_median'])\n",
    "Salary"
   ]
  },
  {
   "cell_type": "code",
   "execution_count": null,
   "metadata": {},
   "outputs": [],
   "source": [
    "Salary.plot.bar(x = 'School_Type',figsize = (10,6.5),rot = 0)"
   ]
  },
  {
   "cell_type": "markdown",
   "metadata": {},
   "source": [
    "From this bar plot it looks like Party, Liberal arts, and State schools have lower starting and mid career salaries than that of Engineering and Ivy League. \n",
    "\n",
    "In order to see if this difference is statistically significant we decided to run an ANOVA test for the difference in average salary for the different school types.\n",
    "We tested-  \n",
    "H0: The mean starting salary is the same for all school types. V.S.\n",
    "H1: The mean starting salary is not the same for all school types."
   ]
  },
  {
   "cell_type": "code",
   "execution_count": null,
   "metadata": {},
   "outputs": [],
   "source": [
    "mod1 = ols('Starting_Median_Salary ~ School_Type',data=df_merge).fit()\n",
    "anova_table = sm.stats.anova_lm(mod1,type=2)\n",
    "print(anova_table)"
   ]
  },
  {
   "cell_type": "markdown",
   "metadata": {},
   "source": [
    "We have a very low p-value therefore we reject the null hypothesis in favor of the alternative and conclude that there is statistical evidence that the starting salary is affected by the type of school attended. Now we will look at the mid career median assuming the same null and alternative hypothesis."
   ]
  },
  {
   "cell_type": "code",
   "execution_count": null,
   "metadata": {},
   "outputs": [],
   "source": [
    "mod2 = ols('Mid_Career_Median_Salary ~ School_Type',data=df_merge).fit()\n",
    "anova_table = sm.stats.anova_lm(mod2,type=2)\n",
    "print(anova_table)"
   ]
  },
  {
   "cell_type": "markdown",
   "metadata": {},
   "source": [
    "Again we have a very low p-value so we arrive at the same conclusion as for the starting median salary."
   ]
  },
  {
   "cell_type": "markdown",
   "metadata": {},
   "source": [
    "Now we want to look at how the salaries are different between the regions the schools are located in.\n",
    "Just like how we did earlier, we print out the means for schools in different regions, select the average starting median and the average mid career median, and input those into a new dataframe to plot from."
   ]
  },
  {
   "cell_type": "code",
   "execution_count": null,
   "metadata": {},
   "outputs": [],
   "source": [
    "print(df_merge.loc[df_merge['Region']==\"Northeastern\"].mean())\n",
    "print(df_merge.loc[df_merge['Region']==\"California\"].mean())\n",
    "print(df_merge.loc[df_merge['Region']==\"Southern\"].mean())\n",
    "print(df_merge.loc[df_merge['Region']==\"Western\"].mean())\n",
    "print(df_merge.loc[df_merge['Region']==\"Midwestern\"].mean())\n",
    "region = {'1':[\"Northeastern\",49267.142857,93518.571429],'2':[\"California\",50155.555556,91633.333333],\n",
    "         '3':[\"Southern\", 44288.235294,80302.941176],'4':[\"Western\",44151.282051,78135.897436],\n",
    "         '5':[\"Midwestern\",43801.5625,77637.5000]}\n",
    "Region = pd.DataFrame.from_dict(region,orient = 'index',columns=['Region','Avg_starting_median',\n",
    "                                                                 'Avg_mid_career_median'])\n",
    "Region"
   ]
  },
  {
   "cell_type": "code",
   "execution_count": null,
   "metadata": {},
   "outputs": [],
   "source": [
    "Region.plot.bar(x = 'Region',figsize = (10,7.5),rot = 0)"
   ]
  },
  {
   "cell_type": "markdown",
   "metadata": {},
   "source": [
    "Again both the starting and mid career salaries appear to be different so we want to test to see if the difference is statistically significant. We proceed with ANOVA testing for- H0: The average salary is the same for all regions.\n",
    "V.S.\n",
    "H1: the starting salary is not the same for all regions."
   ]
  },
  {
   "cell_type": "code",
   "execution_count": null,
   "metadata": {},
   "outputs": [],
   "source": [
    "mod3 = ols('Starting_Median_Salary ~ Region',data=df_merge).fit()\n",
    "anova_table = sm.stats.anova_lm(mod3,type=2)\n",
    "print(anova_table)"
   ]
  },
  {
   "cell_type": "code",
   "execution_count": null,
   "metadata": {},
   "outputs": [],
   "source": [
    "mod4 = ols('Mid_Career_Median_Salary ~ Region',data=df_merge).fit()\n",
    "anova_table = sm.stats.anova_lm(mod4,type=2)\n",
    "print(anova_table)"
   ]
  },
  {
   "cell_type": "markdown",
   "metadata": {},
   "source": [
    "The p-value is very low for both mid career and starting salaries so we conclude that the region that the school is located in does in fact affect the salary for the graduate."
   ]
  },
  {
   "cell_type": "markdown",
   "metadata": {},
   "source": [
    "Now we know that the school type and school region both affect the salaries of the students, we want to see how much the salaries differ.\n",
    "\n",
    "We will first take a look at the numerical increase in salaries for students from schools in different regions.\n",
    "We add a new column called \"value_growth\" in the dataframe df_merge. The value growth is computed by subtracting the starting median salary from the mid career median salary.\n",
    "\n",
    "Then we calculate the mean of the value difference for each regions, look at the results from the printed statements and manually construct a new dataframe called Value_growth, and input those values."
   ]
  },
  {
   "cell_type": "code",
   "execution_count": null,
   "metadata": {},
   "outputs": [],
   "source": [
    "df_merge['value_growth'] = df_merge['Mid_Career_Median_Salary'] - df_merge['Starting_Median_Salary']\n",
    "print(df_merge.loc[df_merge['Region']==\"Northeastern\"].mean())\n",
    "print(df_merge.loc[df_merge['Region']==\"California\"].mean())\n",
    "print(df_merge.loc[df_merge['Region']==\"Southern\"].mean())\n",
    "print(df_merge.loc[df_merge['Region']==\"Western\"].mean())\n",
    "print(df_merge.loc[df_merge['Region']==\"Midwestern\"].mean())"
   ]
  },
  {
   "cell_type": "code",
   "execution_count": null,
   "metadata": {},
   "outputs": [],
   "source": [
    "value_growth = {'1':[\"Northeastern\",44251.428571],'2':[\"California\",41477.777778],\n",
    "          '3':[\"Southern\",36014.705882],'4':[\"Western\",33984.615385],\n",
    "          '5':[\"Midwestern\",33835.937500]}\n",
    "Value_growth = pd.DataFrame.from_dict(value_growth,orient = 'index',columns=['Region','Avg_value_growth'])"
   ]
  },
  {
   "cell_type": "code",
   "execution_count": null,
   "metadata": {},
   "outputs": [],
   "source": [
    "Value_growth"
   ]
  },
  {
   "cell_type": "markdown",
   "metadata": {},
   "source": [
    "Here we see that on average, students from schools in the Northest and California earn around 40000 and 41000 more dollars from graduation to the middle of their careers. Followed by students from schools in the South, West, and Midwest, each earning less (from graduation to mid career) than the previous regions.\n",
    "\n",
    "Now we look at the how much percent increase the students from different types of schools make.\n",
    "We add another column called \"precent_growth\" to the dataframe. The percent growth is calculated using:\n",
    "(Mid career median salary - Starting median salary) / Starting median salary."
   ]
  },
  {
   "cell_type": "code",
   "execution_count": null,
   "metadata": {},
   "outputs": [],
   "source": [
    "df_merge['percent_growth'] = (df_merge['Mid_Career_Median_Salary'] - df_merge['Starting_Median_Salary']) / df_merge['Starting_Median_Salary']\n",
    "print(df_merge.loc[df_merge['School_Type']==\"Engineering\"].mean())\n",
    "print(df_merge.loc[df_merge['School_Type']==\"Party\"].mean())\n",
    "print(df_merge.loc[df_merge['School_Type']==\"Liberal Arts\"].mean())\n",
    "print(df_merge.loc[df_merge['School_Type']==\"Ivy League\"].mean())\n",
    "print(df_merge.loc[df_merge['School_Type']==\"State\"].mean())"
   ]
  },
  {
   "cell_type": "markdown",
   "metadata": {},
   "source": [
    "We manually construct another dataframe called Percent_growth, using the relevant mean values of the percent growth from the print statements. \n",
    "\n",
    "Note that we also manually time the values by 100 so that the plot actually shows a percentage range from 1 to 100."
   ]
  },
  {
   "cell_type": "code",
   "execution_count": null,
   "metadata": {},
   "outputs": [],
   "source": [
    "percent_growth = {'1':[\"Engineering\",0.759268*100],'2':[\"Party\",0.85388*100],\n",
    "          '3':[\"Liberal Arts\", 0.949769*100],'4':[\"Ivy\",0.987949*100],\n",
    "          '5':[\"State\",0.777584*100]}\n",
    "Percent_growth = pd.DataFrame.from_dict(percent_growth,orient = 'index',columns=['School_Type','Avg_percent_growth'])\n",
    "Percent_growth"
   ]
  },
  {
   "cell_type": "code",
   "execution_count": null,
   "metadata": {},
   "outputs": [],
   "source": [
    "Percent_growth.plot.bar(x = 'School_Type',figsize = (7,7.5),rot = 0)"
   ]
  },
  {
   "cell_type": "markdown",
   "metadata": {},
   "source": [
    "From the bar plot, we see that quite surprisingly, engineering schools' students don't have a high payoff as we assumed at the start of this section, in fact, they have the least percentage increase in salaries. Instead, liberal arts and Ivy league students' salaries increased by over 90%, followed by party schools and state schools' students."
   ]
  },
  {
   "cell_type": "markdown",
   "metadata": {},
   "source": [
    "# Ethics & Privacy"
   ]
  },
  {
   "cell_type": "markdown",
   "metadata": {},
   "source": [
    "The costs of schooling have been rising recently and we want people to be the most informed as to whether the cost of schooling is worth the money based on the expected payoff of their chosen degree type. We do not intend to discourage people from attending college or pursuing their passions and if our data ends up showing that certain areas or degrees are not profitable we hope that it does not have a large impact on the people who chose that area of study.\n",
    "\n",
    "Throughout the collection of data, we hoped to show exactly how prices of colleges have risen and how the salaries out of college compare to the increase of cost for attendance. Is it ethical for colleges to continue charging students this much especially if they do not proportionally increase their resources to match the increase in students attending? If they are taking in more resources and money per student, where is the extra money going, if not towards the students?\n",
    "\n",
    "We obtained our data from different datasets. Our primary dataset is the U.S. Department of Education College Scorecard Database. This source is widely known and regulated and thus proposes minimal risks in terms of bias. Our other dataset is from the Wall Street Journal which proposes minimal risk as well. Although, the sources are well-known and risks seems minimal, without knowing exactly how the data was collected, we cannot claim that the data is unbiased. In fact, being completely unbiased is not necessarily achievable. Instead, we have outlined the possible biases below so that viewers are aware of potential biases as they view the analysiswe have performed.\n",
    "\n",
    "Our data is biased towards larger schools and schools that supply four year degrees. This is due to selection bias; we chose schools with populations that met a certain threshold and offered specific degrees. Our results do not account for those with less than 2000 students or trade schools. Thus, our conclusions cannot be held as accurate for any type of higher education. We also removed schools that had missing or withheld information, therefore closing in our sample to schools that were more well-known or more accessible.\n",
    "\n",
    "Thus, our analysis includes what we and the datasets we collected from deem as elite institutions or institutions that are more commmonly discussed. The exact characteristics of elite institutions in the U.S. is unclear and thus poses a limitation towards what schools this analysis can apply to.\n",
    "\n",
    "After analysis, our compiled data analysis is available to the public on github. All data used in this project is open source and does not include personal details of individuals. This it does not raise any ethical concerns. All analysis on the data is being done for educational purposes and to raise awareness. The project is not being used for personal gain; it is merely informative for the public.\n",
    "\n",
    "As specified above, the data and analysis is done only for institutions in the U.S. Other countries may be able to use our analysis as a template, however, the analysis cannot be applied to the state ofhigher education in other parts of the world.\n",
    "\n",
    "Our project does not specifically target any institutions and makes claim solely on the data. No outside information is excluded from the analysis provided.\n",
    "\n",
    "Our results do represent what certain types of institutions as more advantageous. We do not mean to hinder attendance at other schools. We simply want to inform those looking to see what different categories of institutions provide. For instance, our results show that California schools tend to be better in the long run. However, our results do not state nor imply that schools outside California are incapable of providing good futures for their attendees.\n"
   ]
  },
  {
   "cell_type": "markdown",
   "metadata": {},
   "source": [
    "# Conclusion & Discussion"
   ]
  },
  {
   "cell_type": "raw",
   "metadata": {},
   "source": [
    "From the analysis above, we have concluded that the type of school and the region of the school both affect starting and mid-career salaries. Private schools tend to be more advantageous than public schools. Engineering majors are the most properous immediately after graduation only closely behind any degree earned at an Ivy League school. The next best are Liberal Arts, Party, and State schools respectively. When looking at regions, we found that schools in the Northeastern region are the best in terms of mid career salary and California is the second best. In terms of average starting salary, however, California ranks first and is followed by Northeastern. After that, Southern, Western, and Midwestern regions, respectively, follow in average starting and mid career salary. The last three regions have very minimal difference in their average starting salary.\n",
    "\n",
    "When looking at percent growth for school types, Ivy leagues showed the most average percent growth. Liberal arts had the 2nd best average percent growth. In fact, and contrary to our hypothesis, party, liberal art, and state schools had a higher percent growth than engineering schools that fell in last place for growth.\n",
    "\n",
    "Possible limitations in our analysis arise from the fact that we did not include any institutions that had missing or withheld information. Also, by excluding smaller institutions, those with less than 2000 attendees, we had hoped to eliminate trade schools from our analysis. For the most part, this worked, however, a few arts and non-degree providing schools were still left in the data. Due to the large amount of data we had, we were unable to fully remove all trade schools (we could not go through them one-by-one). This may have skewed our data slightly and should be kept in mind when observing our analysis."
   ]
  },
  {
   "cell_type": "code",
   "execution_count": null,
   "metadata": {},
   "outputs": [],
   "source": []
  }
 ],
 "metadata": {
  "kernelspec": {
   "display_name": "Python 3",
   "language": "python",
   "name": "python3"
  },
  "language_info": {
   "codemirror_mode": {
    "name": "ipython",
    "version": 3
   },
   "file_extension": ".py",
   "mimetype": "text/x-python",
   "name": "python",
   "nbconvert_exporter": "python",
   "pygments_lexer": "ipython3",
   "version": "3.6.7"
  }
 },
 "nbformat": 4,
 "nbformat_minor": 2
}
