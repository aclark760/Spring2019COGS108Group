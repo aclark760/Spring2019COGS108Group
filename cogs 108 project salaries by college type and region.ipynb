{
 "cells": [
  {
   "cell_type": "code",
   "execution_count": 7,
   "metadata": {
    "scrolled": true
   },
   "outputs": [],
   "source": [
    "%matplotlib inline\n",
    "import numpy as np\n",
    "import pandas as pd\n",
    "import matplotlib.pyplot as plt\n",
    "import seaborn as sns\n",
    "sns.set()\n",
    "sns.set_context('talk')\n",
    "import patsy\n",
    "import statsmodels.api as sm\n",
    "from statsmodels.formula.api import ols\n",
    "import scipy.stats as stats\n",
    "from scipy.stats import ttest_ind, chisquare, normaltest"
   ]
  },
  {
   "cell_type": "code",
   "execution_count": 8,
   "metadata": {
    "scrolled": true
   },
   "outputs": [],
   "source": [
    "degrees_that_pay_back = pd.read_csv('degrees-that-pay-back.csv')\n",
    "salaries_by_college_type = pd.read_csv('salaries-by-college-type.csv')\n",
    "salaries_by_region = pd.read_csv ('salaries-by-region.csv')"
   ]
  },
  {
   "cell_type": "code",
   "execution_count": 9,
   "metadata": {},
   "outputs": [],
   "source": [
    "df_merge = pd.merge(salaries_by_college_type,salaries_by_region, on = 'School Name',how = 'left')"
   ]
  },
  {
   "cell_type": "code",
   "execution_count": 10,
   "metadata": {},
   "outputs": [],
   "source": [
    "df_merge.drop(['Starting Median Salary_y','Mid-Career Median Salary_y','Mid-Career 10th Percentile Salary_y',\n",
    "        'Mid-Career 25th Percentile Salary_y','Mid-Career 75th Percentile Salary_y',\n",
    "        'Mid-Career 90th Percentile Salary_y'],axis = 1,inplace = True) "
   ]
  },
  {
   "cell_type": "code",
   "execution_count": 11,
   "metadata": {},
   "outputs": [],
   "source": [
    "df_merge.columns = ['School_Name','School_Type','Starting_Median_Salary','Mid_Career_Median_Salary',\n",
    "             'Mid_Career_10th_Percentile_Salary','Mid_Career_25th_Percentile_Salary',\n",
    "             'Mid_Career_75th_Percentile_Salary','Mid_Career_90th_Percentile_Salary','Region']\n",
    "\n",
    "df_merge.drop(['Mid_Career_10th_Percentile_Salary','Mid_Career_90th_Percentile_Salary'],axis = 1, inplace = True)\n",
    "\n",
    "df_merge['Starting_Median_Salary']= df_merge['Starting_Median_Salary'].str.replace('$','')\n",
    "df_merge['Starting_Median_Salary']= df_merge['Starting_Median_Salary'].str.replace(',','')\n",
    "df_merge['Starting_Median_Salary']= df_merge['Starting_Median_Salary'].replace('.00','')\n",
    "df_merge['Starting_Median_Salary'] = df_merge['Starting_Median_Salary'].astype(float)\n",
    "\n",
    "df_merge['Mid_Career_Median_Salary']= df_merge['Mid_Career_Median_Salary'].str.replace('$','')\n",
    "df_merge['Mid_Career_Median_Salary']= df_merge['Mid_Career_Median_Salary'].str.replace(',','')\n",
    "df_merge['Mid_Career_Median_Salary']= df_merge['Mid_Career_Median_Salary'].replace('.00','')\n",
    "df_merge['Mid_Career_Median_Salary'] = df_merge['Mid_Career_Median_Salary'].astype(float)\n",
    "\n",
    "df_merge['Mid_Career_25th_Percentile_Salary'] = df_merge['Mid_Career_25th_Percentile_Salary'].str.replace('$','')\n",
    "df_merge['Mid_Career_25th_Percentile_Salary'] = df_merge['Mid_Career_25th_Percentile_Salary'].str.replace(',','')\n",
    "df_merge['Mid_Career_25th_Percentile_Salary'] = df_merge['Mid_Career_25th_Percentile_Salary'].replace('.00','')\n",
    "df_merge['Mid_Career_25th_Percentile_Salary'] = df_merge['Mid_Career_25th_Percentile_Salary'].astype(float)\n",
    "\n",
    "df_merge['Mid_Career_75th_Percentile_Salary'] = df_merge['Mid_Career_75th_Percentile_Salary'].str.replace('$','')\n",
    "df_merge['Mid_Career_75th_Percentile_Salary'] = df_merge['Mid_Career_75th_Percentile_Salary'].str.replace(',','')\n",
    "df_merge['Mid_Career_75th_Percentile_Salary'] = df_merge['Mid_Career_75th_Percentile_Salary'].replace('.00','')\n",
    "df_merge['Mid_Career_75th_Percentile_Salary'] = df_merge['Mid_Career_75th_Percentile_Salary'].astype(float)"
   ]
  },
  {
   "cell_type": "code",
   "execution_count": 12,
   "metadata": {},
   "outputs": [
    {
     "data": {
      "text/html": [
       "<div>\n",
       "<style scoped>\n",
       "    .dataframe tbody tr th:only-of-type {\n",
       "        vertical-align: middle;\n",
       "    }\n",
       "\n",
       "    .dataframe tbody tr th {\n",
       "        vertical-align: top;\n",
       "    }\n",
       "\n",
       "    .dataframe thead th {\n",
       "        text-align: right;\n",
       "    }\n",
       "</style>\n",
       "<table border=\"1\" class=\"dataframe\">\n",
       "  <thead>\n",
       "    <tr style=\"text-align: right;\">\n",
       "      <th></th>\n",
       "      <th>School_Name</th>\n",
       "      <th>School_Type</th>\n",
       "      <th>Starting_Median_Salary</th>\n",
       "      <th>Mid_Career_Median_Salary</th>\n",
       "      <th>Mid_Career_25th_Percentile_Salary</th>\n",
       "      <th>Mid_Career_75th_Percentile_Salary</th>\n",
       "      <th>Region</th>\n",
       "    </tr>\n",
       "  </thead>\n",
       "  <tbody>\n",
       "    <tr>\n",
       "      <th>0</th>\n",
       "      <td>Massachusetts Institute of Technology (MIT)</td>\n",
       "      <td>Engineering</td>\n",
       "      <td>72200.0</td>\n",
       "      <td>126000.0</td>\n",
       "      <td>99200.0</td>\n",
       "      <td>168000.0</td>\n",
       "      <td>Northeastern</td>\n",
       "    </tr>\n",
       "    <tr>\n",
       "      <th>1</th>\n",
       "      <td>California Institute of Technology (CIT)</td>\n",
       "      <td>Engineering</td>\n",
       "      <td>75500.0</td>\n",
       "      <td>123000.0</td>\n",
       "      <td>104000.0</td>\n",
       "      <td>161000.0</td>\n",
       "      <td>California</td>\n",
       "    </tr>\n",
       "    <tr>\n",
       "      <th>2</th>\n",
       "      <td>Harvey Mudd College</td>\n",
       "      <td>Engineering</td>\n",
       "      <td>71800.0</td>\n",
       "      <td>122000.0</td>\n",
       "      <td>96000.0</td>\n",
       "      <td>180000.0</td>\n",
       "      <td>California</td>\n",
       "    </tr>\n",
       "    <tr>\n",
       "      <th>3</th>\n",
       "      <td>Polytechnic University of New York, Brooklyn</td>\n",
       "      <td>Engineering</td>\n",
       "      <td>62400.0</td>\n",
       "      <td>114000.0</td>\n",
       "      <td>94300.0</td>\n",
       "      <td>143000.0</td>\n",
       "      <td>Northeastern</td>\n",
       "    </tr>\n",
       "    <tr>\n",
       "      <th>4</th>\n",
       "      <td>Cooper Union</td>\n",
       "      <td>Engineering</td>\n",
       "      <td>62200.0</td>\n",
       "      <td>114000.0</td>\n",
       "      <td>80200.0</td>\n",
       "      <td>142000.0</td>\n",
       "      <td>Northeastern</td>\n",
       "    </tr>\n",
       "  </tbody>\n",
       "</table>\n",
       "</div>"
      ],
      "text/plain": [
       "                                    School_Name  School_Type  \\\n",
       "0   Massachusetts Institute of Technology (MIT)  Engineering   \n",
       "1      California Institute of Technology (CIT)  Engineering   \n",
       "2                           Harvey Mudd College  Engineering   \n",
       "3  Polytechnic University of New York, Brooklyn  Engineering   \n",
       "4                                  Cooper Union  Engineering   \n",
       "\n",
       "   Starting_Median_Salary  Mid_Career_Median_Salary  \\\n",
       "0                 72200.0                  126000.0   \n",
       "1                 75500.0                  123000.0   \n",
       "2                 71800.0                  122000.0   \n",
       "3                 62400.0                  114000.0   \n",
       "4                 62200.0                  114000.0   \n",
       "\n",
       "   Mid_Career_25th_Percentile_Salary  Mid_Career_75th_Percentile_Salary  \\\n",
       "0                            99200.0                           168000.0   \n",
       "1                           104000.0                           161000.0   \n",
       "2                            96000.0                           180000.0   \n",
       "3                            94300.0                           143000.0   \n",
       "4                            80200.0                           142000.0   \n",
       "\n",
       "         Region  \n",
       "0  Northeastern  \n",
       "1    California  \n",
       "2    California  \n",
       "3  Northeastern  \n",
       "4  Northeastern  "
      ]
     },
     "execution_count": 12,
     "metadata": {},
     "output_type": "execute_result"
    }
   ],
   "source": [
    "df_merge.head(5)"
   ]
  },
  {
   "cell_type": "code",
   "execution_count": 34,
   "metadata": {},
   "outputs": [
    {
     "data": {
      "text/plain": [
       "Starting_Median_Salary                44126.285714\n",
       "Mid_Career_Median_Salary              78567.428571\n",
       "Mid_Career_25th_Percentile_Salary     56689.714286\n",
       "Mid_Career_75th_Percentile_Salary    106970.857143\n",
       "percent_growth                            0.777584\n",
       "value_growth                          34441.142857\n",
       "dtype: float64"
      ]
     },
     "execution_count": 34,
     "metadata": {},
     "output_type": "execute_result"
    }
   ],
   "source": [
    "df_merge['percent_growth'] = (df_merge['Mid_Career_Median_Salary'] - df_merge['Starting_Median_Salary']) / df_merge['Starting_Median_Salary']\n",
    "df_merge.loc[df_merge['School_Type']==\"Engineering\"].mean()\n",
    "df_merge.loc[df_merge['School_Type']==\"Party\"].mean()\n",
    "df_merge.loc[df_merge['School_Type']==\"Liberal Arts\"].mean()\n",
    "df_merge.loc[df_merge['School_Type']==\"Ivy League\"].mean()\n",
    "df_merge.loc[df_merge['School_Type']==\"State\"].mean()"
   ]
  },
  {
   "cell_type": "code",
   "execution_count": 16,
   "metadata": {},
   "outputs": [],
   "source": [
    "percent_growth = {'1':[\"Engineering\",0.759268*100],'2':[\"Party\",0.85388*100],\n",
    "          '3':[\"Liberal Arts\", 0.949769*100],'4':[\"Ivy\",0.987949*100],\n",
    "          '5':[\"State\",0.777584*100]}\n",
    "Percent_growth = pd.DataFrame.from_dict(percent_growth,orient = 'index',columns=['School_Type','Avg_percent_growth'])"
   ]
  },
  {
   "cell_type": "code",
   "execution_count": 17,
   "metadata": {},
   "outputs": [
    {
     "data": {
      "text/html": [
       "<div>\n",
       "<style scoped>\n",
       "    .dataframe tbody tr th:only-of-type {\n",
       "        vertical-align: middle;\n",
       "    }\n",
       "\n",
       "    .dataframe tbody tr th {\n",
       "        vertical-align: top;\n",
       "    }\n",
       "\n",
       "    .dataframe thead th {\n",
       "        text-align: right;\n",
       "    }\n",
       "</style>\n",
       "<table border=\"1\" class=\"dataframe\">\n",
       "  <thead>\n",
       "    <tr style=\"text-align: right;\">\n",
       "      <th></th>\n",
       "      <th>School_Type</th>\n",
       "      <th>Avg_percent_growth</th>\n",
       "    </tr>\n",
       "  </thead>\n",
       "  <tbody>\n",
       "    <tr>\n",
       "      <th>1</th>\n",
       "      <td>Engineering</td>\n",
       "      <td>75.9268</td>\n",
       "    </tr>\n",
       "    <tr>\n",
       "      <th>2</th>\n",
       "      <td>Party</td>\n",
       "      <td>85.3880</td>\n",
       "    </tr>\n",
       "    <tr>\n",
       "      <th>3</th>\n",
       "      <td>Liberal Arts</td>\n",
       "      <td>94.9769</td>\n",
       "    </tr>\n",
       "    <tr>\n",
       "      <th>4</th>\n",
       "      <td>Ivy</td>\n",
       "      <td>98.7949</td>\n",
       "    </tr>\n",
       "    <tr>\n",
       "      <th>5</th>\n",
       "      <td>State</td>\n",
       "      <td>77.7584</td>\n",
       "    </tr>\n",
       "  </tbody>\n",
       "</table>\n",
       "</div>"
      ],
      "text/plain": [
       "    School_Type  Avg_percent_growth\n",
       "1   Engineering             75.9268\n",
       "2         Party             85.3880\n",
       "3  Liberal Arts             94.9769\n",
       "4           Ivy             98.7949\n",
       "5         State             77.7584"
      ]
     },
     "execution_count": 17,
     "metadata": {},
     "output_type": "execute_result"
    }
   ],
   "source": [
    "Percent_growth"
   ]
  },
  {
   "cell_type": "code",
   "execution_count": 18,
   "metadata": {},
   "outputs": [
    {
     "data": {
      "text/plain": [
       "<matplotlib.axes._subplots.AxesSubplot at 0x2177916a048>"
      ]
     },
     "execution_count": 18,
     "metadata": {},
     "output_type": "execute_result"
    },
    {
     "data": {
      "image/png": "[encoded data removed]",
      "text/plain": [
       "<Figure size 504x540 with 1 Axes>"
      ]
     },
     "metadata": {},
     "output_type": "display_data"
    }
   ],
   "source": [
    "Percent_growth.plot.bar(x = 'School_Type',figsize = (7,7.5),rot = 0)"
   ]
  },
  {
   "cell_type": "code",
   "execution_count": 20,
   "metadata": {},
   "outputs": [
    {
     "data": {
      "text/plain": [
       "Starting_Median_Salary                43801.562500\n",
       "Mid_Career_Median_Salary              77637.500000\n",
       "Mid_Career_25th_Percentile_Salary     56301.562500\n",
       "Mid_Career_75th_Percentile_Salary    106775.000000\n",
       "percent_growth                            0.770151\n",
       "value_growth                          33835.937500\n",
       "dtype: float64"
      ]
     },
     "execution_count": 20,
     "metadata": {},
     "output_type": "execute_result"
    }
   ],
   "source": [
    "df_merge['value_growth'] = df_merge['Mid_Career_Median_Salary'] - df_merge['Starting_Median_Salary']\n",
    "df_merge.loc[df_merge['Region']==\"Northeastern\"].mean()\n",
    "df_merge.loc[df_merge['Region']==\"California\"].mean()\n",
    "df_merge.loc[df_merge['Region']==\"Southern\"].mean()\n",
    "df_merge.loc[df_merge['Region']==\"Western\"].mean()\n",
    "df_merge.loc[df_merge['Region']==\"Midwestern\"].mean()"
   ]
  },
  {
   "cell_type": "code",
   "execution_count": 21,
   "metadata": {},
   "outputs": [],
   "source": [
    "value_growth = {'1':[\"Northeastern\",44251.428571],'2':[\"California\",41477.777778],\n",
    "          '3':[\"Southern\",36014.705882],'4':[\"Western\",33984.615385],\n",
    "          '5':[\"Midwestern\",33835.937500]}\n",
    "Value_growth = pd.DataFrame.from_dict(value_growth,orient = 'index',columns=['Region','Avg_value_growth'])"
   ]
  },
  {
   "cell_type": "code",
   "execution_count": 22,
   "metadata": {},
   "outputs": [
    {
     "data": {
      "text/html": [
       "<div>\n",
       "<style scoped>\n",
       "    .dataframe tbody tr th:only-of-type {\n",
       "        vertical-align: middle;\n",
       "    }\n",
       "\n",
       "    .dataframe tbody tr th {\n",
       "        vertical-align: top;\n",
       "    }\n",
       "\n",
       "    .dataframe thead th {\n",
       "        text-align: right;\n",
       "    }\n",
       "</style>\n",
       "<table border=\"1\" class=\"dataframe\">\n",
       "  <thead>\n",
       "    <tr style=\"text-align: right;\">\n",
       "      <th></th>\n",
       "      <th>Region</th>\n",
       "      <th>Avg_value_growth</th>\n",
       "    </tr>\n",
       "  </thead>\n",
       "  <tbody>\n",
       "    <tr>\n",
       "      <th>1</th>\n",
       "      <td>Northeastern</td>\n",
       "      <td>44251.428571</td>\n",
       "    </tr>\n",
       "    <tr>\n",
       "      <th>2</th>\n",
       "      <td>California</td>\n",
       "      <td>41477.777778</td>\n",
       "    </tr>\n",
       "    <tr>\n",
       "      <th>3</th>\n",
       "      <td>Southern</td>\n",
       "      <td>36014.705882</td>\n",
       "    </tr>\n",
       "    <tr>\n",
       "      <th>4</th>\n",
       "      <td>Western</td>\n",
       "      <td>33984.615385</td>\n",
       "    </tr>\n",
       "    <tr>\n",
       "      <th>5</th>\n",
       "      <td>Midwestern</td>\n",
       "      <td>33835.937500</td>\n",
       "    </tr>\n",
       "  </tbody>\n",
       "</table>\n",
       "</div>"
      ],
      "text/plain": [
       "         Region  Avg_value_growth\n",
       "1  Northeastern      44251.428571\n",
       "2    California      41477.777778\n",
       "3      Southern      36014.705882\n",
       "4       Western      33984.615385\n",
       "5    Midwestern      33835.937500"
      ]
     },
     "execution_count": 22,
     "metadata": {},
     "output_type": "execute_result"
    }
   ],
   "source": [
    "Value_growth"
   ]
  },
  {
   "cell_type": "code",
   "execution_count": 23,
   "metadata": {},
   "outputs": [
    {
     "data": {
      "text/plain": [
       "<matplotlib.axes._subplots.AxesSubplot at 0x2177e80a908>"
      ]
     },
     "execution_count": 23,
     "metadata": {},
     "output_type": "execute_result"
    },
    {
     "data": {
      "image/png": "[encoded data removed]",
      "text/plain": [
       "<Figure size 648x504 with 1 Axes>"
      ]
     },
     "metadata": {},
     "output_type": "display_data"
    }
   ],
   "source": [
    "Value_growth.plot.bar(x = 'Region',figsize = (9,7),rot = 0)"
   ]
  },
  {
   "cell_type": "code",
   "execution_count": 24,
   "metadata": {
    "scrolled": true
   },
   "outputs": [
    {
     "name": "stdout",
     "output_type": "stream",
     "text": [
      "Starting_Median_Salary                59057.894737\n",
      "Mid_Career_Median_Salary             103842.105263\n",
      "Mid_Career_25th_Percentile_Salary     81384.210526\n",
      "Mid_Career_75th_Percentile_Salary    134868.421053\n",
      "percent_growth                            0.759268\n",
      "value_growth                          44784.210526\n",
      "dtype: float64\n",
      "Starting_Median_Salary                45715.00000\n",
      "Mid_Career_Median_Salary              84685.00000\n",
      "Mid_Career_25th_Percentile_Salary     60005.00000\n",
      "Mid_Career_75th_Percentile_Salary    118100.00000\n",
      "percent_growth                            0.85388\n",
      "value_growth                          38970.00000\n",
      "dtype: float64\n",
      "Starting_Median_Salary                45746.808511\n",
      "Mid_Career_Median_Salary              89378.723404\n",
      "Mid_Career_25th_Percentile_Salary     61936.170213\n",
      "Mid_Career_75th_Percentile_Salary    131076.595745\n",
      "percent_growth                            0.949769\n",
      "value_growth                          43631.914894\n",
      "dtype: float64\n",
      "Starting_Median_Salary                60475.000000\n",
      "Mid_Career_Median_Salary             120125.000000\n",
      "Mid_Career_25th_Percentile_Salary     82787.500000\n",
      "Mid_Career_75th_Percentile_Salary    184125.000000\n",
      "percent_growth                            0.987949\n",
      "value_growth                          59650.000000\n",
      "dtype: float64\n",
      "Starting_Median_Salary                44126.285714\n",
      "Mid_Career_Median_Salary              78567.428571\n",
      "Mid_Career_25th_Percentile_Salary     56689.714286\n",
      "Mid_Career_75th_Percentile_Salary    106970.857143\n",
      "percent_growth                            0.777584\n",
      "value_growth                          34441.142857\n",
      "dtype: float64\n"
     ]
    }
   ],
   "source": [
    "print(df_merge.loc[df_merge['School_Type']==\"Engineering\"].mean())\n",
    "print(df_merge.loc[df_merge['School_Type']==\"Party\"].mean())\n",
    "print(df_merge.loc[df_merge['School_Type']==\"Liberal Arts\"].mean())\n",
    "print(df_merge.loc[df_merge['School_Type']==\"Ivy League\"].mean())\n",
    "print(df_merge.loc[df_merge['School_Type']==\"State\"].mean())"
   ]
  },
  {
   "cell_type": "code",
   "execution_count": 25,
   "metadata": {},
   "outputs": [],
   "source": [
    "salary = {'1':[\"Engineering\",59057.894737,103842.105263],'2':[\"Party\",45715.0,84685.0],\n",
    "          '3':[\"Liberal Arts\",45746.808511,89378.723404],'4':[\"Ivy\",60475.0,120125.0],\n",
    "          '5':[\"State\",44126.285714,78567.428571]}\n",
    "Salary = pd.DataFrame.from_dict(salary,orient = 'index',columns=['School_Type','Avg_starting_median',\n",
    "                                                                 'Avg_mid_career_median'])"
   ]
  },
  {
   "cell_type": "code",
   "execution_count": 26,
   "metadata": {
    "scrolled": true
   },
   "outputs": [
    {
     "data": {
      "text/html": [
       "<div>\n",
       "<style scoped>\n",
       "    .dataframe tbody tr th:only-of-type {\n",
       "        vertical-align: middle;\n",
       "    }\n",
       "\n",
       "    .dataframe tbody tr th {\n",
       "        vertical-align: top;\n",
       "    }\n",
       "\n",
       "    .dataframe thead th {\n",
       "        text-align: right;\n",
       "    }\n",
       "</style>\n",
       "<table border=\"1\" class=\"dataframe\">\n",
       "  <thead>\n",
       "    <tr style=\"text-align: right;\">\n",
       "      <th></th>\n",
       "      <th>School_Type</th>\n",
       "      <th>Avg_starting_median</th>\n",
       "      <th>Avg_mid_career_median</th>\n",
       "    </tr>\n",
       "  </thead>\n",
       "  <tbody>\n",
       "    <tr>\n",
       "      <th>1</th>\n",
       "      <td>Engineering</td>\n",
       "      <td>59057.894737</td>\n",
       "      <td>103842.105263</td>\n",
       "    </tr>\n",
       "    <tr>\n",
       "      <th>2</th>\n",
       "      <td>Party</td>\n",
       "      <td>45715.000000</td>\n",
       "      <td>84685.000000</td>\n",
       "    </tr>\n",
       "    <tr>\n",
       "      <th>3</th>\n",
       "      <td>Liberal Arts</td>\n",
       "      <td>45746.808511</td>\n",
       "      <td>89378.723404</td>\n",
       "    </tr>\n",
       "    <tr>\n",
       "      <th>4</th>\n",
       "      <td>Ivy</td>\n",
       "      <td>60475.000000</td>\n",
       "      <td>120125.000000</td>\n",
       "    </tr>\n",
       "    <tr>\n",
       "      <th>5</th>\n",
       "      <td>State</td>\n",
       "      <td>44126.285714</td>\n",
       "      <td>78567.428571</td>\n",
       "    </tr>\n",
       "  </tbody>\n",
       "</table>\n",
       "</div>"
      ],
      "text/plain": [
       "    School_Type  Avg_starting_median  Avg_mid_career_median\n",
       "1   Engineering         59057.894737          103842.105263\n",
       "2         Party         45715.000000           84685.000000\n",
       "3  Liberal Arts         45746.808511           89378.723404\n",
       "4           Ivy         60475.000000          120125.000000\n",
       "5         State         44126.285714           78567.428571"
      ]
     },
     "execution_count": 26,
     "metadata": {},
     "output_type": "execute_result"
    }
   ],
   "source": [
    "Salary"
   ]
  },
  {
   "cell_type": "code",
   "execution_count": 27,
   "metadata": {
    "scrolled": false
   },
   "outputs": [
    {
     "data": {
      "text/plain": [
       "<matplotlib.axes._subplots.AxesSubplot at 0x2177e84d358>"
      ]
     },
     "execution_count": 27,
     "metadata": {},
     "output_type": "execute_result"
    },
    {
     "data": {
      "image/png": "[encoded data removed]",
      "text/plain": [
       "<Figure size 720x468 with 1 Axes>"
      ]
     },
     "metadata": {},
     "output_type": "display_data"
    }
   ],
   "source": [
    "Salary.plot.bar(x = 'School_Type',figsize = (10,6.5),rot = 0)"
   ]
  },
  {
   "cell_type": "code",
   "execution_count": 28,
   "metadata": {},
   "outputs": [
    {
     "name": "stdout",
     "output_type": "stream",
     "text": [
      "                df        sum_sq       mean_sq          F        PR(>F)\n",
      "School_Type    4.0  2.445324e+10  6.113310e+09  52.694356  1.349855e-32\n",
      "Residual     264.0  3.062783e+10  1.160145e+08        NaN           NaN\n"
     ]
    }
   ],
   "source": [
    "mod = ols('Mid_Career_Median_Salary ~ School_Type',data=df_merge).fit()\n",
    "anova_table = sm.stats.anova_lm(mod,type=2)\n",
    "print(anova_table)"
   ]
  },
  {
   "cell_type": "code",
   "execution_count": 29,
   "metadata": {
    "scrolled": false
   },
   "outputs": [
    {
     "data": {
      "text/plain": [
       "Starting_Median_Salary                43801.562500\n",
       "Mid_Career_Median_Salary              77637.500000\n",
       "Mid_Career_25th_Percentile_Salary     56301.562500\n",
       "Mid_Career_75th_Percentile_Salary    106775.000000\n",
       "percent_growth                            0.770151\n",
       "value_growth                          33835.937500\n",
       "dtype: float64"
      ]
     },
     "execution_count": 29,
     "metadata": {},
     "output_type": "execute_result"
    }
   ],
   "source": [
    "df_merge.loc[df_merge['Region']==\"Northeastern\"].mean()\n",
    "df_merge.loc[df_merge['Region']==\"California\"].mean()\n",
    "df_merge.loc[df_merge['Region']==\"Southern\"].mean()\n",
    "df_merge.loc[df_merge['Region']==\"Western\"].mean()\n",
    "df_merge.loc[df_merge['Region']==\"Midwestern\"].mean()"
   ]
  },
  {
   "cell_type": "code",
   "execution_count": 30,
   "metadata": {},
   "outputs": [],
   "source": [
    "region = {'1':[\"Northeastern\",49267.142857,93518.571429],'2':[\"California\",50155.555556,91633.333333],\n",
    "         '3':[\"Southern\", 44288.235294,80302.941176],'4':[\"Western\",44151.282051,78135.897436],\n",
    "         '5':[\"Midwestern\",43801.5625,77637.5000]}\n",
    "Region = pd.DataFrame.from_dict(region,orient = 'index',columns=['Region','Avg_starting_median',\n",
    "                                                                 'Avg_mid_career_median'])"
   ]
  },
  {
   "cell_type": "code",
   "execution_count": 31,
   "metadata": {},
   "outputs": [
    {
     "data": {
      "text/html": [
       "<div>\n",
       "<style scoped>\n",
       "    .dataframe tbody tr th:only-of-type {\n",
       "        vertical-align: middle;\n",
       "    }\n",
       "\n",
       "    .dataframe tbody tr th {\n",
       "        vertical-align: top;\n",
       "    }\n",
       "\n",
       "    .dataframe thead th {\n",
       "        text-align: right;\n",
       "    }\n",
       "</style>\n",
       "<table border=\"1\" class=\"dataframe\">\n",
       "  <thead>\n",
       "    <tr style=\"text-align: right;\">\n",
       "      <th></th>\n",
       "      <th>Region</th>\n",
       "      <th>Avg_starting_median</th>\n",
       "      <th>Avg_mid_career_median</th>\n",
       "    </tr>\n",
       "  </thead>\n",
       "  <tbody>\n",
       "    <tr>\n",
       "      <th>1</th>\n",
       "      <td>Northeastern</td>\n",
       "      <td>49267.142857</td>\n",
       "      <td>93518.571429</td>\n",
       "    </tr>\n",
       "    <tr>\n",
       "      <th>2</th>\n",
       "      <td>California</td>\n",
       "      <td>50155.555556</td>\n",
       "      <td>91633.333333</td>\n",
       "    </tr>\n",
       "    <tr>\n",
       "      <th>3</th>\n",
       "      <td>Southern</td>\n",
       "      <td>44288.235294</td>\n",
       "      <td>80302.941176</td>\n",
       "    </tr>\n",
       "    <tr>\n",
       "      <th>4</th>\n",
       "      <td>Western</td>\n",
       "      <td>44151.282051</td>\n",
       "      <td>78135.897436</td>\n",
       "    </tr>\n",
       "    <tr>\n",
       "      <th>5</th>\n",
       "      <td>Midwestern</td>\n",
       "      <td>43801.562500</td>\n",
       "      <td>77637.500000</td>\n",
       "    </tr>\n",
       "  </tbody>\n",
       "</table>\n",
       "</div>"
      ],
      "text/plain": [
       "         Region  Avg_starting_median  Avg_mid_career_median\n",
       "1  Northeastern         49267.142857           93518.571429\n",
       "2    California         50155.555556           91633.333333\n",
       "3      Southern         44288.235294           80302.941176\n",
       "4       Western         44151.282051           78135.897436\n",
       "5    Midwestern         43801.562500           77637.500000"
      ]
     },
     "execution_count": 31,
     "metadata": {},
     "output_type": "execute_result"
    }
   ],
   "source": [
    "Region"
   ]
  },
  {
   "cell_type": "code",
   "execution_count": 32,
   "metadata": {},
   "outputs": [
    {
     "data": {
      "text/plain": [
       "<matplotlib.axes._subplots.AxesSubplot at 0x2177e8e07b8>"
      ]
     },
     "execution_count": 32,
     "metadata": {},
     "output_type": "execute_result"
    },
    {
     "data": {
      "image/png": "[encoded data removed]",
      "text/plain": [
       "<Figure size 720x540 with 1 Axes>"
      ]
     },
     "metadata": {},
     "output_type": "display_data"
    }
   ],
   "source": [
    "Region.plot.bar(x = 'Region',figsize = (10,7.5),rot = 0)"
   ]
  },
  {
   "cell_type": "code",
   "execution_count": 33,
   "metadata": {},
   "outputs": [
    {
     "name": "stdout",
     "output_type": "stream",
     "text": [
      "             df        sum_sq       mean_sq         F        PR(>F)\n",
      "Region      4.0  1.854800e+09  4.637001e+08  13.36962  6.234456e-10\n",
      "Residual  263.0  9.121659e+09  3.468311e+07       NaN           NaN\n"
     ]
    }
   ],
   "source": [
    "mod = ols('Starting_Median_Salary ~ Region',data=df_merge).fit()\n",
    "anova_table = sm.stats.anova_lm(mod,type=2)\n",
    "print(anova_table)"
   ]
  },
  {
   "cell_type": "code",
   "execution_count": null,
   "metadata": {},
   "outputs": [],
   "source": []
  }
 ],
 "metadata": {
  "kernelspec": {
   "display_name": "Python 3",
   "language": "python",
   "name": "python3"
  },
  "language_info": {
   "codemirror_mode": {
    "name": "ipython",
    "version": 3
   },
   "file_extension": ".py",
   "mimetype": "text/x-python",
   "name": "python",
   "nbconvert_exporter": "python",
   "pygments_lexer": "ipython3",
   "version": "3.7.3"
  }
 },
 "nbformat": 4,
 "nbformat_minor": 2
}
