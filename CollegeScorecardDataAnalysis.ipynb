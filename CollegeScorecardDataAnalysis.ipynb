{
 "cells": [
  {
   "cell_type": "code",
   "execution_count": 1,
   "metadata": {},
   "outputs": [
    {
     "name": "stderr",
     "output_type": "stream",
     "text": [
      "/opt/conda/lib/python3.6/site-packages/statsmodels/compat/pandas.py:56: FutureWarning: The pandas.core.datetools module is deprecated and will be removed in a future version. Please use the pandas.tseries module instead.\n",
      "  from pandas.core import datetools\n"
     ]
    }
   ],
   "source": [
    "# Imports \n",
    "%matplotlib inline\n",
    "\n",
    "import numpy as np\n",
    "import pandas as pd\n",
    "import matplotlib.pyplot as plt\n",
    "\n",
    "import patsy\n",
    "import statsmodels.api as sm\n",
    "import scipy.stats as stats\n",
    "from scipy.stats import ttest_ind, chisquare, normaltest"
   ]
  },
  {
   "cell_type": "code",
   "execution_count": 2,
   "metadata": {},
   "outputs": [],
   "source": [
    "df = pd.read_csv('MERGED2013_14_PP.csv', dtype = str)"
   ]
  },
  {
   "cell_type": "code",
   "execution_count": 3,
   "metadata": {
    "scrolled": true
   },
   "outputs": [
    {
     "data": {
      "text/plain": [
       "0                   34300\n",
       "1                   46400\n",
       "2                   46100\n",
       "3                   50500\n",
       "4                   29500\n",
       "5                   49900\n",
       "6                   30900\n",
       "7                   42200\n",
       "8                   37900\n",
       "9                   54100\n",
       "10                  51000\n",
       "11                  29400\n",
       "12                  25100\n",
       "13                  35900\n",
       "14                  35500\n",
       "15                  32800\n",
       "16                  41500\n",
       "17                  29300\n",
       "19                  29800\n",
       "20                  32800\n",
       "21                  27400\n",
       "22                  43400\n",
       "23                  42400\n",
       "24      PrivacySuppressed\n",
       "25                  26100\n",
       "26                  37000\n",
       "27                  29700\n",
       "28                  32800\n",
       "29                  31400\n",
       "30                  31600\n",
       "              ...        \n",
       "7764                54100\n",
       "7765                54100\n",
       "7766                54100\n",
       "7767                54100\n",
       "7768                54100\n",
       "7769                54100\n",
       "7770                54100\n",
       "7771                54100\n",
       "7772                54100\n",
       "7773                54100\n",
       "7774                54100\n",
       "7775                54100\n",
       "7776                54100\n",
       "7777                54100\n",
       "7778                54100\n",
       "7779                54100\n",
       "7780                54100\n",
       "7790                54100\n",
       "7791                54100\n",
       "7792                54100\n",
       "7793                54100\n",
       "7794                32800\n",
       "7796                54100\n",
       "7797                35100\n",
       "7798                35100\n",
       "7799                35100\n",
       "7800                35100\n",
       "7801                35100\n",
       "7802                35100\n",
       "7803                35100\n",
       "Name: MN_EARN_WNE_P10, Length: 6999, dtype: object"
      ]
     },
     "execution_count": 3,
     "metadata": {},
     "output_type": "execute_result"
    }
   ],
   "source": [
    "#df['COSTT4_A']\n",
    "field = 'MN_EARN_WNE_P10'\n",
    "df[df[field].notnull()][field]\n",
    "#df[field]"
   ]
  },
  {
   "cell_type": "code",
   "execution_count": null,
   "metadata": {},
   "outputs": [],
   "source": []
  }
 ],
 "metadata": {
  "kernelspec": {
   "display_name": "Python 3",
   "language": "python",
   "name": "python3"
  },
  "language_info": {
   "codemirror_mode": {
    "name": "ipython",
    "version": 3
   },
   "file_extension": ".py",
   "mimetype": "text/x-python",
   "name": "python",
   "nbconvert_exporter": "python",
   "pygments_lexer": "ipython3",
   "version": "3.6.7"
  }
 },
 "nbformat": 4,
 "nbformat_minor": 2
}
