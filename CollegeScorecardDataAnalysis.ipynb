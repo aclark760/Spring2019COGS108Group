{
 "cells": [
  {
   "cell_type": "code",
   "execution_count": 1,
   "metadata": {},
   "outputs": [
    {
     "name": "stderr",
     "output_type": "stream",
     "text": [
      "/opt/conda/lib/python3.6/site-packages/statsmodels/compat/pandas.py:56: FutureWarning: The pandas.core.datetools module is deprecated and will be removed in a future version. Please use the pandas.tseries module instead.\n",
      "  from pandas.core import datetools\n"
     ]
    }
   ],
   "source": [
    "# Imports \n",
    "%matplotlib inline\n",
    "\n",
    "import numpy as np\n",
    "import pandas as pd\n",
    "import matplotlib.pyplot as plt\n",
    "\n",
    "import patsy\n",
    "import statsmodels.api as sm\n",
    "import scipy.stats as stats\n",
    "from scipy.stats import ttest_ind, chisquare, normaltest"
   ]
  },
  {
   "cell_type": "code",
   "execution_count": 2,
   "metadata": {},
   "outputs": [],
   "source": [
    "# loading college scorecard data from 2013-2014\n",
    "df = pd.read_csv('MERGED2013_14_PP.csv', dtype = str)"
   ]
  },
  {
   "cell_type": "code",
   "execution_count": 5,
   "metadata": {
    "scrolled": true
   },
   "outputs": [],
   "source": [
    "# setting up columns we want to look at\n",
    "undergraduate_enrollment = 'UGDS' #int\n",
    "avg_cost_of_attendance_academic_institutions = 'COSTT4_A' #int\n",
    "count_of_students_in_earnings_cohort = 'COUNT_ED' #int\n",
    "# wne = 'working not enrolled'\n",
    "count_of_students_wne_10y_after_entry = 'COUNT_WNE_P10' #int\n",
    "mean_earnings_of_students_wne_10y_after_entry = 'MN_EARN_WNE_P10' #int\n",
    "median_earnings_of_students_wne_10y_after_entry = 'MD_EARN_WNE_P10' #int\n",
    "stddev_earnings_of_students_wne_10y_after_entry = 'SD_EARN_WNE_P10' #int\n",
    "\n",
    "\n",
    "count_of_students_wne_6y_after_entry = 'COUNT_WNE_P6' #int\n",
    "mean_earnings_of_students_wne_6y_after_entry = 'MN_EARN_WNE_P6' #int\n",
    "median_earnings_of_students_wne_6y_after_entry = 'MD_EARN_WNE_P6' #int\n",
    "stddev_earnings_of_students_wne_6y_after_entry = 'SD_EARN_WNE_P6' #int\n",
    "\n",
    "median_debt_for_graduated_students = 'GRAD_DEBT_MDN' #float\n",
    "\n",
    "\n",
    "#df[df[field].notnull()][field]"
   ]
  },
  {
   "cell_type": "code",
   "execution_count": null,
   "metadata": {},
   "outputs": [],
   "source": []
  }
 ],
 "metadata": {
  "kernelspec": {
   "display_name": "Python 3",
   "language": "python",
   "name": "python3"
  },
  "language_info": {
   "codemirror_mode": {
    "name": "ipython",
    "version": 3
   },
   "file_extension": ".py",
   "mimetype": "text/x-python",
   "name": "python",
   "nbconvert_exporter": "python",
   "pygments_lexer": "ipython3",
   "version": "3.6.7"
  }
 },
 "nbformat": 4,
 "nbformat_minor": 2
}
